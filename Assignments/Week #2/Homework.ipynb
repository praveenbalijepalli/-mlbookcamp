{
 "cells": [
  {
   "cell_type": "markdown",
   "id": "fbb7cfde",
   "metadata": {},
   "source": [
    "In this homework, we will use the California Housing Prices from Kaggle.\n",
    "\n",
    "Here's a wget-able link:\n",
    "\n",
    "wget https://raw.githubusercontent.com/alexeygrigorev/datasets/master/housing.csv\n",
    "\n",
    "The goal of this homework is to create a regression model for predicting housing prices (column 'median_house_value').\n",
    "\n",
    "\n",
    "EDA\n",
    "\n",
    "    Load the data.\n",
    "    Look at the median_house_value variable. Does it have a long tail?"
   ]
  },
  {
   "cell_type": "code",
   "execution_count": 1,
   "id": "2c18dc2e",
   "metadata": {},
   "outputs": [
    {
     "name": "stderr",
     "output_type": "stream",
     "text": [
      "--2022-09-19 17:44:32--  https://raw.githubusercontent.com/alexeygrigorev/datasets/master/housing.csv\n",
      "Resolving raw.githubusercontent.com (raw.githubusercontent.com)... 185.199.108.133, 185.199.110.133, 185.199.111.133, ...\n",
      "Connecting to raw.githubusercontent.com (raw.githubusercontent.com)|185.199.108.133|:443... connected.\n",
      "HTTP request sent, awaiting response... 200 OK\n",
      "Length: 1423529 (1.4M) [text/plain]\n",
      "Saving to: 'housing.csv'\n",
      "\n",
      "     0K .......... .......... .......... .......... ..........  3% 4.71M 0s\n",
      "    50K .......... .......... .......... .......... ..........  7% 14.6M 0s\n",
      "   100K .......... .......... .......... .......... .......... 10% 8.95M 0s\n",
      "   150K .......... .......... .......... .......... .......... 14% 12.1M 0s\n",
      "   200K .......... .......... .......... .......... .......... 17% 14.6M 0s\n",
      "   250K .......... .......... .......... .......... .......... 21% 10.7M 0s\n",
      "   300K .......... .......... .......... .......... .......... 25% 14.5M 0s\n",
      "   350K .......... .......... .......... .......... .......... 28% 21.9M 0s\n",
      "   400K .......... .......... .......... .......... .......... 32% 6.82M 0s\n",
      "   450K .......... .......... .......... .......... .......... 35% 20.6M 0s\n",
      "   500K .......... .......... .......... .......... .......... 39% 16.7M 0s\n",
      "   550K .......... .......... .......... .......... .......... 43% 47.5M 0s\n",
      "   600K .......... .......... .......... .......... .......... 46% 45.6M 0s\n",
      "   650K .......... .......... .......... .......... .......... 50% 12.8M 0s\n",
      "   700K .......... .......... .......... .......... .......... 53% 12.9M 0s\n",
      "   750K .......... .......... .......... .......... .......... 57% 32.0M 0s\n",
      "   800K .......... .......... .......... .......... .......... 61% 13.2M 0s\n",
      "   850K .......... .......... .......... .......... .......... 64% 41.7M 0s\n",
      "   900K .......... .......... .......... .......... .......... 68% 26.9M 0s\n",
      "   950K .......... .......... .......... .......... .......... 71% 13.3M 0s\n",
      "  1000K .......... .......... .......... .......... .......... 75% 10.8M 0s\n",
      "  1050K .......... .......... .......... .......... .......... 79% 40.5M 0s\n",
      "  1100K .......... .......... .......... .......... .......... 82% 50.6M 0s\n",
      "  1150K .......... .......... .......... .......... .......... 86% 38.9M 0s\n",
      "  1200K .......... .......... .......... .......... .......... 89% 28.7M 0s\n",
      "  1250K .......... .......... .......... .......... .......... 93% 29.3M 0s\n",
      "  1300K .......... .......... .......... .......... .......... 97% 12.2M 0s\n",
      "  1350K .......... .......... .......... ..........           100% 60.0M=0.09s\n",
      "\n",
      "2022-09-19 17:44:33 (15.7 MB/s) - 'housing.csv' saved [1423529/1423529]\n",
      "\n"
     ]
    }
   ],
   "source": [
    "!wget https://raw.githubusercontent.com/alexeygrigorev/datasets/master/housing.csv"
   ]
  },
  {
   "cell_type": "code",
   "execution_count": 2,
   "id": "fb64df17",
   "metadata": {},
   "outputs": [
    {
     "name": "stderr",
     "output_type": "stream",
     "text": [
      "C:\\anaconda3\\envs\\ml-zoomcamp\\lib\\site-packages\\scipy\\__init__.py:146: UserWarning: A NumPy version >=1.16.5 and <1.23.0 is required for this version of SciPy (detected version 1.23.2\n",
      "  warnings.warn(f\"A NumPy version >={np_minversion} and <{np_maxversion}\"\n"
     ]
    }
   ],
   "source": [
    "import numpy as np\n",
    "import pandas as pd\n",
    "import matplotlib.pyplot as plt\n",
    "import seaborn as sns"
   ]
  },
  {
   "cell_type": "code",
   "execution_count": 3,
   "id": "a19960c2",
   "metadata": {},
   "outputs": [],
   "source": [
    "%matplotlib inline"
   ]
  },
  {
   "cell_type": "code",
   "execution_count": 4,
   "id": "c8a11b80",
   "metadata": {},
   "outputs": [
    {
     "data": {
      "text/html": [
       "<div>\n",
       "<style scoped>\n",
       "    .dataframe tbody tr th:only-of-type {\n",
       "        vertical-align: middle;\n",
       "    }\n",
       "\n",
       "    .dataframe tbody tr th {\n",
       "        vertical-align: top;\n",
       "    }\n",
       "\n",
       "    .dataframe thead th {\n",
       "        text-align: right;\n",
       "    }\n",
       "</style>\n",
       "<table border=\"1\" class=\"dataframe\">\n",
       "  <thead>\n",
       "    <tr style=\"text-align: right;\">\n",
       "      <th></th>\n",
       "      <th>longitude</th>\n",
       "      <th>latitude</th>\n",
       "      <th>housing_median_age</th>\n",
       "      <th>total_rooms</th>\n",
       "      <th>total_bedrooms</th>\n",
       "      <th>population</th>\n",
       "      <th>households</th>\n",
       "      <th>median_income</th>\n",
       "      <th>median_house_value</th>\n",
       "      <th>ocean_proximity</th>\n",
       "    </tr>\n",
       "  </thead>\n",
       "  <tbody>\n",
       "    <tr>\n",
       "      <th>0</th>\n",
       "      <td>-122.23</td>\n",
       "      <td>37.88</td>\n",
       "      <td>41.0</td>\n",
       "      <td>880.0</td>\n",
       "      <td>129.0</td>\n",
       "      <td>322.0</td>\n",
       "      <td>126.0</td>\n",
       "      <td>8.3252</td>\n",
       "      <td>452600.0</td>\n",
       "      <td>NEAR BAY</td>\n",
       "    </tr>\n",
       "    <tr>\n",
       "      <th>1</th>\n",
       "      <td>-122.22</td>\n",
       "      <td>37.86</td>\n",
       "      <td>21.0</td>\n",
       "      <td>7099.0</td>\n",
       "      <td>1106.0</td>\n",
       "      <td>2401.0</td>\n",
       "      <td>1138.0</td>\n",
       "      <td>8.3014</td>\n",
       "      <td>358500.0</td>\n",
       "      <td>NEAR BAY</td>\n",
       "    </tr>\n",
       "    <tr>\n",
       "      <th>2</th>\n",
       "      <td>-122.24</td>\n",
       "      <td>37.85</td>\n",
       "      <td>52.0</td>\n",
       "      <td>1467.0</td>\n",
       "      <td>190.0</td>\n",
       "      <td>496.0</td>\n",
       "      <td>177.0</td>\n",
       "      <td>7.2574</td>\n",
       "      <td>352100.0</td>\n",
       "      <td>NEAR BAY</td>\n",
       "    </tr>\n",
       "    <tr>\n",
       "      <th>3</th>\n",
       "      <td>-122.25</td>\n",
       "      <td>37.85</td>\n",
       "      <td>52.0</td>\n",
       "      <td>1274.0</td>\n",
       "      <td>235.0</td>\n",
       "      <td>558.0</td>\n",
       "      <td>219.0</td>\n",
       "      <td>5.6431</td>\n",
       "      <td>341300.0</td>\n",
       "      <td>NEAR BAY</td>\n",
       "    </tr>\n",
       "    <tr>\n",
       "      <th>4</th>\n",
       "      <td>-122.25</td>\n",
       "      <td>37.85</td>\n",
       "      <td>52.0</td>\n",
       "      <td>1627.0</td>\n",
       "      <td>280.0</td>\n",
       "      <td>565.0</td>\n",
       "      <td>259.0</td>\n",
       "      <td>3.8462</td>\n",
       "      <td>342200.0</td>\n",
       "      <td>NEAR BAY</td>\n",
       "    </tr>\n",
       "  </tbody>\n",
       "</table>\n",
       "</div>"
      ],
      "text/plain": [
       "   longitude  latitude  housing_median_age  total_rooms  total_bedrooms  \\\n",
       "0    -122.23     37.88                41.0        880.0           129.0   \n",
       "1    -122.22     37.86                21.0       7099.0          1106.0   \n",
       "2    -122.24     37.85                52.0       1467.0           190.0   \n",
       "3    -122.25     37.85                52.0       1274.0           235.0   \n",
       "4    -122.25     37.85                52.0       1627.0           280.0   \n",
       "\n",
       "   population  households  median_income  median_house_value ocean_proximity  \n",
       "0       322.0       126.0         8.3252            452600.0        NEAR BAY  \n",
       "1      2401.0      1138.0         8.3014            358500.0        NEAR BAY  \n",
       "2       496.0       177.0         7.2574            352100.0        NEAR BAY  \n",
       "3       558.0       219.0         5.6431            341300.0        NEAR BAY  \n",
       "4       565.0       259.0         3.8462            342200.0        NEAR BAY  "
      ]
     },
     "execution_count": 4,
     "metadata": {},
     "output_type": "execute_result"
    }
   ],
   "source": [
    "data = pd.read_csv(\"housing.csv\")\n",
    "data.head()"
   ]
  },
  {
   "cell_type": "code",
   "execution_count": 5,
   "id": "171c2781",
   "metadata": {},
   "outputs": [
    {
     "name": "stdout",
     "output_type": "stream",
     "text": [
      "<class 'pandas.core.frame.DataFrame'>\n",
      "RangeIndex: 20640 entries, 0 to 20639\n",
      "Data columns (total 10 columns):\n",
      " #   Column              Non-Null Count  Dtype  \n",
      "---  ------              --------------  -----  \n",
      " 0   longitude           20640 non-null  float64\n",
      " 1   latitude            20640 non-null  float64\n",
      " 2   housing_median_age  20640 non-null  float64\n",
      " 3   total_rooms         20640 non-null  float64\n",
      " 4   total_bedrooms      20433 non-null  float64\n",
      " 5   population          20640 non-null  float64\n",
      " 6   households          20640 non-null  float64\n",
      " 7   median_income       20640 non-null  float64\n",
      " 8   median_house_value  20640 non-null  float64\n",
      " 9   ocean_proximity     20640 non-null  object \n",
      "dtypes: float64(9), object(1)\n",
      "memory usage: 1.6+ MB\n"
     ]
    }
   ],
   "source": [
    "data.info()"
   ]
  },
  {
   "cell_type": "code",
   "execution_count": 6,
   "id": "5751503f",
   "metadata": {},
   "outputs": [
    {
     "data": {
      "text/plain": [
       "(20640, 10)"
      ]
     },
     "execution_count": 6,
     "metadata": {},
     "output_type": "execute_result"
    }
   ],
   "source": [
    "data.shape"
   ]
  },
  {
   "cell_type": "code",
   "execution_count": 7,
   "id": "f3e3aca5",
   "metadata": {},
   "outputs": [
    {
     "data": {
      "image/png": "[encoded data removed]",
      "text/plain": [
       "<Figure size 600x400 with 1 Axes>"
      ]
     },
     "metadata": {},
     "output_type": "display_data"
    }
   ],
   "source": [
    "plt.figure(figsize=(6, 4))\n",
    "\n",
    "sns.histplot(data.median_house_value, bins=40, color='black', alpha=0.25)\n",
    "\n",
    "plt.ylabel('Frequency')\n",
    "plt.xlabel('Price')\n",
    "plt.title('Distribution of prices')\n",
    "\n",
    "plt.show()"
   ]
  },
  {
   "cell_type": "code",
   "execution_count": 8,
   "id": "b289dfd3",
   "metadata": {},
   "outputs": [
    {
     "data": {
      "image/png": "[encoded data removed]",
      "text/plain": [
       "<Figure size 600x400 with 1 Axes>"
      ]
     },
     "metadata": {},
     "output_type": "display_data"
    }
   ],
   "source": [
    "log_price = np.log1p(data['median_house_value'])\n",
    "\n",
    "plt.figure(figsize=(6, 4))\n",
    "\n",
    "sns.histplot(log_price, bins=100, color='black', alpha=0.25)\n",
    "plt.ylabel('Frequency')\n",
    "plt.xlabel('Log(Price + 1)')\n",
    "plt.title('Distribution of prices after log tranformation')\n",
    "\n",
    "plt.show()"
   ]
  },
  {
   "cell_type": "markdown",
   "id": "4eaae6ed",
   "metadata": {},
   "source": [
    "Features\n",
    "\n",
    "For the rest of the homework, you'll need to use only these columns:\n",
    "\n",
    "    'latitude',\n",
    "    'longitude',\n",
    "    'housing_median_age',\n",
    "    'total_rooms',\n",
    "    'total_bedrooms',\n",
    "    'population',\n",
    "    'households',\n",
    "    'median_income',\n",
    "    'median_house_value'\n",
    "\n",
    "Select only them."
   ]
  },
  {
   "cell_type": "code",
   "execution_count": 9,
   "id": "ad80b2d6",
   "metadata": {},
   "outputs": [],
   "source": [
    "housing = data.drop([\"ocean_proximity\"], axis=1)"
   ]
  },
  {
   "cell_type": "code",
   "execution_count": 10,
   "id": "e3514936",
   "metadata": {},
   "outputs": [
    {
     "data": {
      "text/plain": [
       "Index(['longitude', 'latitude', 'housing_median_age', 'total_rooms',\n",
       "       'total_bedrooms', 'population', 'households', 'median_income',\n",
       "       'median_house_value'],\n",
       "      dtype='object')"
      ]
     },
     "execution_count": 10,
     "metadata": {},
     "output_type": "execute_result"
    }
   ],
   "source": [
    "housing.columns"
   ]
  },
  {
   "cell_type": "markdown",
   "id": "61fcf8b1",
   "metadata": {},
   "source": [
    "# Question 1 "
   ]
  },
  {
   "cell_type": "markdown",
   "id": "91d19e1d",
   "metadata": {},
   "source": [
    "Find a feature with missing values. How many missing values does it have?\n",
    "\n",
    "    207\n",
    "    307\n",
    "    408\n",
    "    508"
   ]
  },
  {
   "cell_type": "code",
   "execution_count": 11,
   "id": "96f54d89",
   "metadata": {},
   "outputs": [
    {
     "data": {
      "text/plain": [
       "longitude               0\n",
       "latitude                0\n",
       "housing_median_age      0\n",
       "total_rooms             0\n",
       "total_bedrooms        207\n",
       "population              0\n",
       "households              0\n",
       "median_income           0\n",
       "median_house_value      0\n",
       "dtype: int64"
      ]
     },
     "execution_count": 11,
     "metadata": {},
     "output_type": "execute_result"
    }
   ],
   "source": [
    "housing.isna().sum()"
   ]
  },
  {
   "cell_type": "markdown",
   "id": "63f997b4",
   "metadata": {},
   "source": [
    "total_bedrooms has **207 missing values**"
   ]
  },
  {
   "cell_type": "markdown",
   "id": "fda2aa77",
   "metadata": {},
   "source": [
    "## Question 2"
   ]
  },
  {
   "cell_type": "markdown",
   "id": "8f4d5c29",
   "metadata": {},
   "source": [
    "What's the median (50% percentile) for variable 'population'?\n",
    "\n",
    "    1133\n",
    "    1122\n",
    "    1166\n",
    "    1188"
   ]
  },
  {
   "cell_type": "code",
   "execution_count": 12,
   "id": "4e7a5f24",
   "metadata": {},
   "outputs": [
    {
     "data": {
      "text/plain": [
       "1166.0"
      ]
     },
     "execution_count": 12,
     "metadata": {},
     "output_type": "execute_result"
    }
   ],
   "source": [
    "housing.population.median() # housing['population'].median()"
   ]
  },
  {
   "cell_type": "markdown",
   "id": "0de1f69a",
   "metadata": {},
   "source": [
    "Split the data\n",
    "\n",
    "    Shuffle the initial dataset, use seed 42.\n",
    "    Split your data in train/val/test sets, with 60%/20%/20% distribution.\n",
    "    Make sure that the target value ('median_house_value') is not in your dataframe.\n",
    "    Apply the log transformation to the median_house_value variable using the np.log1p() function."
   ]
  },
  {
   "cell_type": "code",
   "execution_count": 13,
   "id": "c2d5b85a",
   "metadata": {},
   "outputs": [],
   "source": [
    "np.random.seed(42)\n",
    "\n",
    "n = housing.shape[0]  # Length of the dataframe\n",
    "\n",
    "n_val = int(0.2 * n) # 20% of length of the dataframe\n",
    "n_test = int(0.2 * n) # 20% of length of the dataframe\n",
    "n_train = n - (n_val + n_test) # 60% of length of the dataframe \n",
    "\n",
    "idx = np.arange(n) # Generate indices for dataframe \n",
    "np.random.shuffle(idx) \n",
    "\n",
    "df_shuffled = housing.iloc[idx] # Shuffled dataframe generated \n",
    "\n",
    "df_train = df_shuffled.iloc[:n_train].copy() # Train Data\n",
    "df_val = df_shuffled.iloc[n_train:n_train+n_val].copy() # Validation Data\n",
    "df_test = df_shuffled.iloc[n_train+n_val:].copy() # Test Data"
   ]
  },
  {
   "cell_type": "code",
   "execution_count": 14,
   "id": "8c97fcbe",
   "metadata": {},
   "outputs": [],
   "source": [
    "y_train_orig = df_train['median_house_value'].values\n",
    "y_val_orig = df_val['median_house_value'].values\n",
    "y_test_orig = df_test['median_house_value'].values\n",
    "\n",
    "y_train = np.log1p(y_train_orig)\n",
    "y_val = np.log1p(y_val_orig)\n",
    "y_test = np.log1p(y_test_orig)"
   ]
  },
  {
   "cell_type": "code",
   "execution_count": 15,
   "id": "18fa683d",
   "metadata": {},
   "outputs": [],
   "source": [
    "del df_train['median_house_value']\n",
    "del df_val['median_house_value']\n",
    "del df_test['median_house_value']"
   ]
  },
  {
   "cell_type": "code",
   "execution_count": null,
   "id": "d82629c2",
   "metadata": {},
   "outputs": [],
   "source": []
  },
  {
   "cell_type": "markdown",
   "id": "9ae3d682",
   "metadata": {},
   "source": [
    "## Question 3"
   ]
  },
  {
   "cell_type": "markdown",
   "id": "9617b612",
   "metadata": {},
   "source": [
    "- We need to deal with missing values for the column from Q1.\n",
    "- We have two options: fill it with 0 or with the mean of this variable.\n",
    "- Try both options. For each, train a linear regression model without regularization using the code from the lessons.\n",
    "- For computing the mean, use the training only!\n",
    "- Use the validation dataset to evaluate the models and compare the RMSE of each option.\n",
    "- Round the RMSE scores to 2 decimal digits using round(score, 2)\n",
    "- Which option gives better RMSE?\n",
    "\n",
    "Options:\n",
    "\n",
    "    With 0\n",
    "    With mean\n",
    "    Both are equally good"
   ]
  },
  {
   "cell_type": "code",
   "execution_count": 16,
   "id": "6f1b8dc8",
   "metadata": {},
   "outputs": [
    {
     "data": {
      "text/plain": [
       "Index(['longitude', 'latitude', 'housing_median_age', 'total_rooms',\n",
       "       'total_bedrooms', 'population', 'households', 'median_income'],\n",
       "      dtype='object')"
      ]
     },
     "execution_count": 16,
     "metadata": {},
     "output_type": "execute_result"
    }
   ],
   "source": [
    "cols = df_train.columns\n",
    "cols"
   ]
  },
  {
   "cell_type": "markdown",
   "id": "5d9eb2b5",
   "metadata": {},
   "source": [
    "### Function Definitions"
   ]
  },
  {
   "cell_type": "code",
   "execution_count": 17,
   "id": "3b9b9614",
   "metadata": {},
   "outputs": [],
   "source": [
    "# Data Preparation (Filling NaN with values considering selected columns)\n",
    "def prepare_X(df, cols, fill_value):\n",
    "    df_num = df[cols]\n",
    "    df_num = df_num.fillna(fill_value, axis=0)\n",
    "    X = df_num.values\n",
    "    return X"
   ]
  },
  {
   "cell_type": "code",
   "execution_count": 18,
   "id": "f4e43b79",
   "metadata": {},
   "outputs": [],
   "source": [
    "# Linear Regression Function Definition\n",
    "def train_linear_regression(X, y):\n",
    "    ones = np.ones(X.shape[0])\n",
    "    X = np.column_stack([ones, X])\n",
    "\n",
    "    XTX = X.T.dot(X)\n",
    "    XTX_inv = np.linalg.inv(XTX)\n",
    "    w = XTX_inv.dot(X.T).dot(y)\n",
    "    \n",
    "    return w[0], w[1:]"
   ]
  },
  {
   "cell_type": "code",
   "execution_count": 19,
   "id": "288d3928",
   "metadata": {},
   "outputs": [],
   "source": [
    "# RMSE Function Definition\n",
    "def rmse(y, y_pred):\n",
    "    error = y_pred - y\n",
    "    mse = (error ** 2).mean()\n",
    "    return np.sqrt(mse)"
   ]
  },
  {
   "cell_type": "markdown",
   "id": "cf858cf0",
   "metadata": {},
   "source": [
    "### Train model using Linear Regression with data prepared by using fill_value with 0\n"
   ]
  },
  {
   "cell_type": "code",
   "execution_count": 20,
   "id": "97c65e02",
   "metadata": {},
   "outputs": [
    {
     "name": "stdout",
     "output_type": "stream",
     "text": [
      "0.34\n"
     ]
    }
   ],
   "source": [
    "# Train model using Linear Regression with data prepared by using fill_value with 0\n",
    "\n",
    "x_train_0 = prepare_X(df_train, cols, 0)\n",
    "w_0, w = train_linear_regression(x_train_0, y_train)\n",
    "\n",
    "y_pred_0 = w_0 + x_train_0.dot(w)\n",
    "\n",
    "train_rmse_0 = round(rmse(y_train, y_pred_0), 2)\n",
    "print(train_rmse_0)"
   ]
  },
  {
   "cell_type": "code",
   "execution_count": 21,
   "id": "15c47b6d",
   "metadata": {
    "scrolled": false
   },
   "outputs": [
    {
     "data": {
      "image/png": "[encoded data removed]",
      "text/plain": [
       "<Figure size 600x400 with 1 Axes>"
      ]
     },
     "metadata": {},
     "output_type": "display_data"
    }
   ],
   "source": [
    "plt.figure(figsize=(6, 4))\n",
    "\n",
    "sns.histplot(y_train, label='target', color='#222222', alpha=0.6, bins=40)\n",
    "sns.histplot(y_pred_0, label='prediction', color='#aaaaaa', alpha=0.8, bins=40)\n",
    "\n",
    "plt.legend()\n",
    "\n",
    "plt.ylabel('Frequency')\n",
    "plt.xlabel('Log(Price + 1)')\n",
    "plt.title('Predictions vs actual distribution')\n",
    "\n",
    "plt.show()"
   ]
  },
  {
   "cell_type": "code",
   "execution_count": 22,
   "id": "9bdc608c",
   "metadata": {},
   "outputs": [
    {
     "name": "stdout",
     "output_type": "stream",
     "text": [
      "0.33\n"
     ]
    }
   ],
   "source": [
    "# Validate the model\n",
    "x_val_0 = prepare_X(df_val, cols, 0)\n",
    "y_val_pred_0 = w_0 + x_val_0.dot(w)\n",
    "\n",
    "val_rmse_0 = round(rmse(y_val, y_val_pred_0), 2)\n",
    "print(val_rmse_0)"
   ]
  },
  {
   "cell_type": "code",
   "execution_count": 23,
   "id": "71211976",
   "metadata": {
    "scrolled": false
   },
   "outputs": [
    {
     "data": {
      "image/png": "[encoded data removed]",
      "text/plain": [
       "<Figure size 600x400 with 1 Axes>"
      ]
     },
     "metadata": {},
     "output_type": "display_data"
    }
   ],
   "source": [
    "plt.figure(figsize=(6, 4))\n",
    "\n",
    "sns.histplot(y_val, label='target', color='#222222', alpha=0.6, bins=40)\n",
    "sns.histplot(y_val_pred_0, label='prediction', color='#aaaaaa', alpha=0.8, bins=40)\n",
    "\n",
    "plt.legend()\n",
    "\n",
    "plt.ylabel('Frequency')\n",
    "plt.xlabel('Log(Price + 1)')\n",
    "plt.title('Predictions vs actual distribution')\n",
    "\n",
    "plt.show()"
   ]
  },
  {
   "cell_type": "markdown",
   "id": "63ac7c03",
   "metadata": {},
   "source": [
    "### Train model using Linear Regression with data prepared by using fill_value = df_train's mean\n"
   ]
  },
  {
   "cell_type": "code",
   "execution_count": 24,
   "id": "6f373521",
   "metadata": {},
   "outputs": [
    {
     "data": {
      "text/plain": [
       "533.4803317730147"
      ]
     },
     "execution_count": 24,
     "metadata": {},
     "output_type": "execute_result"
    }
   ],
   "source": [
    "bedroom_mean =  df_train['total_bedrooms'].mean()\n",
    "bedroom_mean"
   ]
  },
  {
   "cell_type": "code",
   "execution_count": 25,
   "id": "030bc129",
   "metadata": {},
   "outputs": [
    {
     "name": "stdout",
     "output_type": "stream",
     "text": [
      "0.34\n"
     ]
    }
   ],
   "source": [
    "# Train model using Linear Regression with data prepared by using fill_value with 0\n",
    "\n",
    "x_train_fill_mean = prepare_X(df_train, cols, bedroom_mean)\n",
    "w_0, w = train_linear_regression(x_train_fill_mean, y_train)\n",
    "\n",
    "y_pred_fill_mean = w_0 + x_train_fill_mean.dot(w)\n",
    "\n",
    "train_rmse_fill_mean = round(rmse(y_train, y_pred_fill_mean), 2)\n",
    "print(train_rmse_fill_mean)"
   ]
  },
  {
   "cell_type": "code",
   "execution_count": 26,
   "id": "b19147d2",
   "metadata": {
    "scrolled": false
   },
   "outputs": [
    {
     "data": {
      "image/png": "[encoded data removed]",
      "text/plain": [
       "<Figure size 600x400 with 1 Axes>"
      ]
     },
     "metadata": {},
     "output_type": "display_data"
    }
   ],
   "source": [
    "plt.figure(figsize=(6, 4))\n",
    "\n",
    "sns.histplot(y_train, label='target', color='#222222', alpha=0.6, bins=40)\n",
    "sns.histplot(y_pred_fill_mean, label='prediction', color='#aaaaaa', alpha=0.8, bins=40)\n",
    "\n",
    "plt.legend()\n",
    "\n",
    "plt.ylabel('Frequency')\n",
    "plt.xlabel('Log(Price + 1)')\n",
    "plt.title('Predictions vs actual distribution')\n",
    "\n",
    "plt.show()"
   ]
  },
  {
   "cell_type": "code",
   "execution_count": 27,
   "id": "ded55f3a",
   "metadata": {},
   "outputs": [
    {
     "name": "stdout",
     "output_type": "stream",
     "text": [
      "0.33\n"
     ]
    }
   ],
   "source": [
    "# Validate the model\n",
    "x_val_fill_mean = prepare_X(df_val, cols, bedroom_mean)\n",
    "y_val_pred_fill_mean = w_0 + x_val_fill_mean.dot(w)\n",
    "\n",
    "val_rmse_fill_mean = round(rmse(y_val, y_val_pred_fill_mean), 2)\n",
    "print(val_rmse_fill_mean)"
   ]
  },
  {
   "cell_type": "code",
   "execution_count": 28,
   "id": "8263ba50",
   "metadata": {
    "scrolled": false
   },
   "outputs": [
    {
     "data": {
      "image/png": "[encoded data removed]",
      "text/plain": [
       "<Figure size 600x400 with 1 Axes>"
      ]
     },
     "metadata": {},
     "output_type": "display_data"
    }
   ],
   "source": [
    "plt.figure(figsize=(6, 4))\n",
    "\n",
    "sns.histplot(y_val, label='target', color='#222222', alpha=0.6, bins=40)\n",
    "sns.histplot(y_val_pred_fill_mean, label='prediction', color='#aaaaaa', alpha=0.8, bins=40)\n",
    "\n",
    "plt.legend()\n",
    "\n",
    "plt.ylabel('Frequency')\n",
    "plt.xlabel('Log(Price + 1)')\n",
    "plt.title('Predictions vs actual distribution')\n",
    "\n",
    "plt.show()"
   ]
  },
  {
   "cell_type": "code",
   "execution_count": 29,
   "id": "21f3311b",
   "metadata": {},
   "outputs": [
    {
     "name": "stdout",
     "output_type": "stream",
     "text": [
      "0.33\n"
     ]
    }
   ],
   "source": [
    "print(val_rmse_0)"
   ]
  },
  {
   "cell_type": "code",
   "execution_count": 30,
   "id": "279016dd",
   "metadata": {},
   "outputs": [
    {
     "name": "stdout",
     "output_type": "stream",
     "text": [
      "0.33\n"
     ]
    }
   ],
   "source": [
    "print(val_rmse_fill_mean)"
   ]
  },
  {
   "cell_type": "markdown",
   "id": "bbf5ec66",
   "metadata": {},
   "source": [
    " Both options i.e. fill it with 0 or with the mean of this variable are **equally good**"
   ]
  },
  {
   "cell_type": "code",
   "execution_count": null,
   "id": "cf7ddc88",
   "metadata": {},
   "outputs": [],
   "source": []
  },
  {
   "cell_type": "markdown",
   "id": "5162d9cc",
   "metadata": {},
   "source": [
    "## Question 4"
   ]
  },
  {
   "cell_type": "markdown",
   "id": "4973ba12",
   "metadata": {},
   "source": [
    "- Now let's train a regularized linear regression.\n",
    "- For this question, fill the NAs with 0.\n",
    "- Try different values of r from this list: [0, 0.000001, 0.0001, 0.001, 0.01, 0.1, 1, 5, 10].\n",
    "- Use RMSE to evaluate the model on the validation dataset.\n",
    "- Round the RMSE scores to 2 decimal digits.\n",
    "- Which r gives the best RMSE?\n",
    "\n",
    "If there are multiple options, select the smallest r.\n",
    "\n",
    "Options:\n",
    "\n",
    "    0\n",
    "    0.000001\n",
    "    0.001\n",
    "    0.0001"
   ]
  },
  {
   "cell_type": "markdown",
   "id": "922a1f59",
   "metadata": {},
   "source": [
    "### Function Definitions"
   ]
  },
  {
   "cell_type": "code",
   "execution_count": 31,
   "id": "f292cdf7",
   "metadata": {},
   "outputs": [],
   "source": [
    "# Data Preparation (Filling NaN with 0 considering selected columns)\n",
    "def prepare_X(df, cols):\n",
    "    df_num = df[cols]\n",
    "    df_num = df_num.fillna(0, axis=0)\n",
    "    X = df_num.values\n",
    "    return X"
   ]
  },
  {
   "cell_type": "code",
   "execution_count": 32,
   "id": "629e03e0",
   "metadata": {},
   "outputs": [],
   "source": [
    "# Regularized Linear Regression Function Definition\n",
    "def train_linear_regression_reg(X, y, r=0.0):\n",
    "    ones = np.ones(X.shape[0])\n",
    "    X = np.column_stack([ones, X])\n",
    "\n",
    "    XTX = X.T.dot(X)\n",
    "    reg = r * np.eye(XTX.shape[0])\n",
    "    XTX = XTX + reg\n",
    "\n",
    "    XTX_inv = np.linalg.inv(XTX)\n",
    "    w = XTX_inv.dot(X.T).dot(y)\n",
    "    \n",
    "    return w[0], w[1:]"
   ]
  },
  {
   "cell_type": "code",
   "execution_count": 33,
   "id": "b0fc61ba",
   "metadata": {},
   "outputs": [],
   "source": [
    "# RMSE Function Definition\n",
    "def rmse(y, y_pred):\n",
    "    error = y_pred - y\n",
    "    mse = (error ** 2).mean()\n",
    "    return np.sqrt(mse)"
   ]
  },
  {
   "cell_type": "markdown",
   "id": "b72c12bc",
   "metadata": {},
   "source": [
    "### Train model using Regularized Linear Regression with data prepared by using 0 to fill NaN values"
   ]
  },
  {
   "cell_type": "code",
   "execution_count": 34,
   "id": "01071af2",
   "metadata": {},
   "outputs": [],
   "source": [
    "X_train = prepare_X(df_train, cols)\n",
    "X_val = prepare_X(df_val, cols)"
   ]
  },
  {
   "cell_type": "code",
   "execution_count": 35,
   "id": "de29fe9f",
   "metadata": {},
   "outputs": [
    {
     "name": "stdout",
     "output_type": "stream",
     "text": [
      " r: 0\n",
      " Train RMSE: 0.34\n",
      " Val RMSE: 0.33\n",
      "\n",
      " r: 1e-06\n",
      " Train RMSE: 0.34\n",
      " Val RMSE: 0.33\n",
      "\n",
      " r: 0.0001\n",
      " Train RMSE: 0.34\n",
      " Val RMSE: 0.33\n",
      "\n",
      " r: 0.001\n",
      " Train RMSE: 0.34\n",
      " Val RMSE: 0.33\n",
      "\n",
      " r: 0.01\n",
      " Train RMSE: 0.34\n",
      " Val RMSE: 0.33\n",
      "\n",
      " r: 0.1\n",
      " Train RMSE: 0.34\n",
      " Val RMSE: 0.33\n",
      "\n",
      " r: 1\n",
      " Train RMSE: 0.35\n",
      " Val RMSE: 0.33\n",
      "\n",
      " r: 5\n",
      " Train RMSE: 0.35\n",
      " Val RMSE: 0.34\n",
      "\n",
      " r: 10\n",
      " Train RMSE: 0.35\n",
      " Val RMSE: 0.34\n",
      "\n"
     ]
    }
   ],
   "source": [
    "train_rmse = list()\n",
    "val_rmse = list()\n",
    "\n",
    "for r in [0, 0.000001, 0.0001, 0.001, 0.01, 0.1, 1, 5, 10]:\n",
    "    w_0, w = train_linear_regression_reg(X_train, y_train, r=r)\n",
    "    \n",
    "    # Train RMSE\n",
    "    y_train_pred_r =  w_0 + X_train.dot(w)\n",
    "    train_rmse.append((r, round(rmse(y_train, y_train_pred_r), 2)))\n",
    "    \n",
    "    # Validation RMSE\n",
    "    y_val_pred_r =  w_0 + X_val.dot(w)\n",
    "    val_rmse.append((r, round(rmse(y_val, y_val_pred_r), 2)))\n",
    "    \n",
    "    print(f\" r: {train_rmse[-1][0]}\")\n",
    "    print(f\" Train RMSE: {train_rmse[-1][1]}\")\n",
    "    print(f\" Val RMSE: {val_rmse[-1][1]}\")\n",
    "    print()"
   ]
  },
  {
   "cell_type": "markdown",
   "id": "bd3e70c4",
   "metadata": {},
   "source": [
    "**r = 0** gives the smallest Validation RMSE"
   ]
  },
  {
   "cell_type": "code",
   "execution_count": null,
   "id": "42024c46",
   "metadata": {},
   "outputs": [],
   "source": []
  },
  {
   "cell_type": "markdown",
   "id": "96fed6aa",
   "metadata": {},
   "source": [
    "## Question 5"
   ]
  },
  {
   "cell_type": "markdown",
   "id": "bf3aa9b0",
   "metadata": {},
   "source": [
    "- We used seed 42 for splitting the data. Let's find out how selecting the seed influences our score.\n",
    "- Try different seed values: [0, 1, 2, 3, 4, 5, 6, 7, 8, 9].\n",
    "- For each seed, do the train/validation/test split with 60%/20%/20% distribution.\n",
    "- Fill the missing values with 0 and train a model without regularization.\n",
    "- For each seed, evaluate the model on the validation dataset and collect the RMSE scores.\n",
    "- What's the standard deviation of all the scores? To compute the standard deviation, use np.std.\n",
    "- Round the result to 3 decimal digits (round(std, 3))\n",
    "\n",
    "Note: Standard deviation shows how different the values are. If it's low, then all values are approximately the same. If it's high, the values are different. If standard deviation of scores is low, then our model is stable.\n",
    "\n",
    "Options:\n",
    "\n",
    "    0.16\n",
    "    0.00005\n",
    "    0.005\n",
    "    0.15555"
   ]
  },
  {
   "cell_type": "markdown",
   "id": "b0898ca4",
   "metadata": {},
   "source": [
    "### Function Definitions"
   ]
  },
  {
   "cell_type": "code",
   "execution_count": 36,
   "id": "c86a625f",
   "metadata": {},
   "outputs": [],
   "source": [
    "def split_data(seed):\n",
    "    np.random.seed(seed)\n",
    "\n",
    "    n = housing.shape[0]  # Length of the dataframe\n",
    "\n",
    "    n_val = int(0.2 * n) # 20% of length of the dataframe\n",
    "    n_test = int(0.2 * n) # 20% of length of the dataframe\n",
    "    n_train = n - (n_val + n_test) # 60% of length of the dataframe \n",
    "\n",
    "    idx = np.arange(n) # Generate indices for dataframe \n",
    "    np.random.shuffle(idx) \n",
    "\n",
    "    df_shuffled = housing.iloc[idx] # Shuffled dataframe generated \n",
    "\n",
    "    df_train = df_shuffled.iloc[:n_train].copy() # Train Data\n",
    "    df_val = df_shuffled.iloc[n_train:n_train+n_val].copy() # Validation Data\n",
    "    df_test = df_shuffled.iloc[n_train+n_val:].copy() # Test Data\n",
    "    \n",
    "    y_train_orig = df_train['median_house_value'].values\n",
    "    y_val_orig = df_val['median_house_value'].values\n",
    "    y_test_orig = df_test['median_house_value'].values\n",
    "\n",
    "    y_train = np.log1p(y_train_orig)\n",
    "    y_val = np.log1p(y_val_orig)\n",
    "    y_test = np.log1p(y_test_orig)\n",
    "\n",
    "    del df_train['median_house_value']\n",
    "    del df_val['median_house_value']\n",
    "    del df_test['median_house_value']\n",
    "    \n",
    "    return (df_train, y_train), (df_val, y_val), (df_test, y_test)"
   ]
  },
  {
   "cell_type": "code",
   "execution_count": 37,
   "id": "e8e25076",
   "metadata": {},
   "outputs": [],
   "source": [
    "# Data Preparation (Filling NaN with values considering selected columns)\n",
    "def prepare_X(df, cols):\n",
    "    df_num = df[cols]\n",
    "    df_num = df_num.fillna(0, axis=0)\n",
    "    X = df_num.values\n",
    "    return X"
   ]
  },
  {
   "cell_type": "code",
   "execution_count": 38,
   "id": "0bf6bc2e",
   "metadata": {},
   "outputs": [],
   "source": [
    "# Linear Regression Function Definition\n",
    "def train_linear_regression(X, y):\n",
    "    ones = np.ones(X.shape[0])\n",
    "    X = np.column_stack([ones, X])\n",
    "\n",
    "    XTX = X.T.dot(X)\n",
    "    XTX_inv = np.linalg.inv(XTX)\n",
    "    w = XTX_inv.dot(X.T).dot(y)\n",
    "    \n",
    "    return w[0], w[1:]"
   ]
  },
  {
   "cell_type": "code",
   "execution_count": 39,
   "id": "bde1e301",
   "metadata": {},
   "outputs": [],
   "source": [
    "# RMSE Function Definition\n",
    "def rmse(y, y_pred):\n",
    "    error = y_pred - y\n",
    "    mse = (error ** 2).mean()\n",
    "    return np.sqrt(mse)"
   ]
  },
  {
   "cell_type": "markdown",
   "id": "b4fdb5a9",
   "metadata": {},
   "source": [
    "### Train the Model and calculate RMSE Standard Deviation for the given seed values"
   ]
  },
  {
   "cell_type": "code",
   "execution_count": 40,
   "id": "e355178a",
   "metadata": {},
   "outputs": [],
   "source": [
    "seed_values = [0, 1, 2, 3, 4, 5, 6, 7, 8, 9]"
   ]
  },
  {
   "cell_type": "code",
   "execution_count": 41,
   "id": "79fd95e8",
   "metadata": {},
   "outputs": [
    {
     "name": "stdout",
     "output_type": "stream",
     "text": [
      " Seed: 0\n",
      " Train RMSE: 0.34\n",
      " Val RMSE: 0.34\n",
      "\n",
      " Seed: 1\n",
      " Train RMSE: 0.34\n",
      " Val RMSE: 0.34\n",
      "\n",
      " Seed: 2\n",
      " Train RMSE: 0.34\n",
      " Val RMSE: 0.33\n",
      "\n",
      " Seed: 3\n",
      " Train RMSE: 0.34\n",
      " Val RMSE: 0.34\n",
      "\n",
      " Seed: 4\n",
      " Train RMSE: 0.34\n",
      " Val RMSE: 0.34\n",
      "\n",
      " Seed: 5\n",
      " Train RMSE: 0.34\n",
      " Val RMSE: 0.34\n",
      "\n",
      " Seed: 6\n",
      " Train RMSE: 0.34\n",
      " Val RMSE: 0.35\n",
      "\n",
      " Seed: 7\n",
      " Train RMSE: 0.34\n",
      " Val RMSE: 0.34\n",
      "\n",
      " Seed: 8\n",
      " Train RMSE: 0.34\n",
      " Val RMSE: 0.35\n",
      "\n",
      " Seed: 9\n",
      " Train RMSE: 0.34\n",
      " Val RMSE: 0.34\n",
      "\n"
     ]
    }
   ],
   "source": [
    "seed_val_rmse = list()\n",
    "\n",
    "for seed in seed_values:\n",
    "    \n",
    "    print(f\" Seed: {seed}\")\n",
    "    \n",
    "    train, val, test = split_data(seed)\n",
    "    X_train = prepare_X(train[0], train[0].columns)\n",
    "    y_train = train[1]\n",
    "    w_0, w = train_linear_regression(X_train, y_train)\n",
    "\n",
    "    # Train RMSE\n",
    "    y_train_pred =  w_0 + X_train.dot(w)\n",
    "    print(f\" Train RMSE: {round(rmse(y_train, y_train_pred), 2)}\")\n",
    "    \n",
    "    \n",
    "    # Validation RMSE\n",
    "    X_val = prepare_X(val[0], val[0].columns)\n",
    "    y_val = val[1]\n",
    "    y_val_pred =  w_0 + X_val.dot(w)\n",
    "    seed_val_rmse.append(round(rmse(y_val, y_val_pred),2))\n",
    "    \n",
    "    print(f\" Val RMSE: {seed_val_rmse[-1]}\")\n",
    "    print()"
   ]
  },
  {
   "cell_type": "code",
   "execution_count": 42,
   "id": "b67e2ce6",
   "metadata": {},
   "outputs": [
    {
     "data": {
      "text/plain": [
       "[0.34, 0.34, 0.33, 0.34, 0.34, 0.34, 0.35, 0.34, 0.35, 0.34]"
      ]
     },
     "execution_count": 42,
     "metadata": {},
     "output_type": "execute_result"
    }
   ],
   "source": [
    "seed_val_rmse"
   ]
  },
  {
   "cell_type": "code",
   "execution_count": 43,
   "id": "1fddf28d",
   "metadata": {
    "scrolled": true
   },
   "outputs": [
    {
     "data": {
      "text/plain": [
       "0.005385164807134491"
      ]
     },
     "execution_count": 43,
     "metadata": {},
     "output_type": "execute_result"
    }
   ],
   "source": [
    "seed_val_rmse_std = np.array(seed_val_rmse).std()\n",
    "seed_val_rmse_std"
   ]
  },
  {
   "cell_type": "code",
   "execution_count": null,
   "id": "a3171eb9",
   "metadata": {},
   "outputs": [],
   "source": []
  },
  {
   "cell_type": "markdown",
   "id": "6296a64e",
   "metadata": {},
   "source": [
    "### Question 6"
   ]
  },
  {
   "cell_type": "markdown",
   "id": "ded489cc",
   "metadata": {},
   "source": [
    "- Split the dataset like previously, use seed 9.\n",
    "- Combine train and validation datasets.\n",
    "- Fill the missing values with 0 and train a model with r=0.001.\n",
    "- What's the RMSE on the test dataset?\n",
    "\n",
    "Options:\n",
    "\n",
    "    0.35\n",
    "    0.135\n",
    "    0.450\n",
    "    0.245"
   ]
  },
  {
   "cell_type": "code",
   "execution_count": 44,
   "id": "64991d2f",
   "metadata": {},
   "outputs": [],
   "source": [
    "seed = 9\n",
    "\n",
    "np.random.seed(seed)\n",
    "\n",
    "n = housing.shape[0]  # Length of the dataframe\n",
    "\n",
    "n_test = int(0.2 * n) # 20% of length of the dataframe\n",
    "n_train = n - (n_test) # 80% of length of the dataframe \n",
    "\n",
    "idx = np.arange(n) # Generate indices for dataframe \n",
    "np.random.shuffle(idx) \n",
    "\n",
    "df_shuffled = housing.iloc[idx] # Shuffled dataframe generated \n",
    "\n",
    "df_train = df_shuffled.iloc[:n_train].copy() # Train Data\n",
    "df_test = df_shuffled.iloc[n_train:].copy() # Test Data\n",
    "\n",
    "y_train_orig = df_train['median_house_value'].values\n",
    "y_test_orig = df_test['median_house_value'].values\n",
    "\n",
    "y_train = np.log1p(y_train_orig)\n",
    "y_test = np.log1p(y_test_orig)\n",
    "\n",
    "del df_train['median_house_value']\n",
    "del df_test['median_house_value']"
   ]
  },
  {
   "cell_type": "markdown",
   "id": "56da18c8",
   "metadata": {},
   "source": [
    "### Function Definitions"
   ]
  },
  {
   "cell_type": "code",
   "execution_count": 45,
   "id": "93c46eb0",
   "metadata": {},
   "outputs": [],
   "source": [
    "# Data Preparation (Filling NaN with values considering selected columns)\n",
    "def prepare_X(df, cols):\n",
    "    df_num = df[cols]\n",
    "    df_num = df_num.fillna(0, axis=0)\n",
    "    X = df_num.values\n",
    "    return X"
   ]
  },
  {
   "cell_type": "code",
   "execution_count": 46,
   "id": "2ebda99b",
   "metadata": {},
   "outputs": [],
   "source": [
    "# Regularized Linear Regression Function Definition\n",
    "def train_linear_regression_reg(X, y, r):\n",
    "    ones = np.ones(X.shape[0])\n",
    "    X = np.column_stack([ones, X])\n",
    "\n",
    "    XTX = X.T.dot(X)\n",
    "    reg = r * np.eye(XTX.shape[0])\n",
    "    XTX = XTX + reg\n",
    "\n",
    "    XTX_inv = np.linalg.inv(XTX)\n",
    "    w = XTX_inv.dot(X.T).dot(y)\n",
    "    \n",
    "    return w[0], w[1:]"
   ]
  },
  {
   "cell_type": "code",
   "execution_count": 47,
   "id": "3947d3e5",
   "metadata": {},
   "outputs": [],
   "source": [
    "# RMSE Function Definition\n",
    "def rmse(y, y_pred):\n",
    "    error = y_pred - y\n",
    "    mse = (error ** 2).mean()\n",
    "    return np.sqrt(mse)"
   ]
  },
  {
   "cell_type": "markdown",
   "id": "3d25e504",
   "metadata": {},
   "source": [
    "### Train the model and Calculate Test RMSE"
   ]
  },
  {
   "cell_type": "code",
   "execution_count": 48,
   "id": "7990b2cc",
   "metadata": {},
   "outputs": [],
   "source": [
    "X_train = prepare_X(df_train, df_train.columns)\n",
    "X_test = prepare_X(df_test, df_test.columns)"
   ]
  },
  {
   "cell_type": "code",
   "execution_count": 49,
   "id": "a78d4c97",
   "metadata": {},
   "outputs": [
    {
     "name": "stdout",
     "output_type": "stream",
     "text": [
      "r: 0.001\n",
      "Train RMSE: 0.34\n",
      "Test RMSE: 0.35\n",
      "\n"
     ]
    }
   ],
   "source": [
    "test_rmse = 0\n",
    "r=0.001\n",
    "\n",
    "print(f\"r: {r}\")\n",
    "\n",
    "w_0, w = train_linear_regression_reg(X_train, y_train, r)\n",
    "    \n",
    "# Train RMSE\n",
    "y_train_pred_r =  w_0 + X_train.dot(w)\n",
    "print(f\"Train RMSE: {round(rmse(y_train, y_train_pred_r), 2)}\")\n",
    "\n",
    "# Test RMSE\n",
    "y_test_pred_r =  w_0 + X_test.dot(w)\n",
    "test_rmse = round(rmse(y_test, y_test_pred_r), 2)\n",
    "    \n",
    "print(f\"Test RMSE: {test_rmse}\")\n",
    "print()"
   ]
  },
  {
   "cell_type": "code",
   "execution_count": null,
   "id": "12dd280e",
   "metadata": {},
   "outputs": [],
   "source": []
  }
 ],
 "metadata": {
  "kernelspec": {
   "display_name": "Python 3",
   "language": "python",
   "name": "python3"
  },
  "language_info": {
   "codemirror_mode": {
    "name": "ipython",
    "version": 3
   },
   "file_extension": ".py",
   "mimetype": "text/x-python",
   "name": "python",
   "nbconvert_exporter": "python",
   "pygments_lexer": "ipython3",
   "version": "3.9.13"
  }
 },
 "nbformat": 4,
 "nbformat_minor": 5
}
