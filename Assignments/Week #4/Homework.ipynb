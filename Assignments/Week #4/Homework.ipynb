{
 "cells": [
  {
   "cell_type": "markdown",
   "id": "a33f740c",
   "metadata": {},
   "source": [
    "In this homework, we will use Credit Card Data from book \"Econometric Analysis\".\n",
    "\n",
    "Here's a wget-able link:\n",
    "\n",
    "wget https://raw.githubusercontent.com/alexeygrigorev/datasets/master/AER_credit_card_data.csv\n",
    "\n",
    "The goal of this homework is to inspect the output of different evaluation metrics by creating a classification model (target column card)."
   ]
  },
  {
   "cell_type": "markdown",
   "id": "512512b0",
   "metadata": {},
   "source": [
    "## Preparation"
   ]
  },
  {
   "cell_type": "code",
   "execution_count": 1,
   "id": "28776c29",
   "metadata": {},
   "outputs": [
    {
     "name": "stderr",
     "output_type": "stream",
     "text": [
      "C:\\anaconda3\\envs\\ml-zoomcamp\\lib\\site-packages\\scipy\\__init__.py:146: UserWarning: A NumPy version >=1.16.5 and <1.23.0 is required for this version of SciPy (detected version 1.23.2\n",
      "  warnings.warn(f\"A NumPy version >={np_minversion} and <{np_maxversion}\"\n"
     ]
    }
   ],
   "source": [
    "import numpy as np\n",
    "import pandas as pd\n",
    "import matplotlib.pyplot as plt\n",
    "import seaborn as sns\n",
    "\n",
    "\n",
    "import sklearn\n",
    "from sklearn.model_selection import train_test_split\n",
    "from sklearn.metrics import roc_auc_score, roc_curve, accuracy_score\n",
    "from sklearn.feature_extraction import DictVectorizer\n",
    "from sklearn.linear_model import LogisticRegression\n",
    "\n",
    "\n",
    "import warnings\n",
    "warnings.filterwarnings('ignore')"
   ]
  },
  {
   "cell_type": "code",
   "execution_count": 2,
   "id": "5416a8b1",
   "metadata": {
    "scrolled": true
   },
   "outputs": [
    {
     "name": "stderr",
     "output_type": "stream",
     "text": [
      "--2022-10-03 20:22:06--  https://raw.githubusercontent.com/alexeygrigorev/datasets/master/AER_credit_card_data.csv\n",
      "Resolving raw.githubusercontent.com (raw.githubusercontent.com)... 185.199.109.133, 185.199.111.133, 185.199.110.133, ...\n",
      "Connecting to raw.githubusercontent.com (raw.githubusercontent.com)|185.199.109.133|:443... connected.\n",
      "HTTP request sent, awaiting response... 200 OK\n",
      "Length: 73250 (72K) [text/plain]\n",
      "Saving to: 'AER_credit_card_data.csv'\n",
      "\n",
      "     0K .......... .......... .......... .......... .......... 69% 3.97M 0s\n",
      "    50K .......... .......... .                               100% 45.0M=0.01s\n",
      "\n",
      "2022-10-03 20:22:06 (5.47 MB/s) - 'AER_credit_card_data.csv' saved [73250/73250]\n",
      "\n"
     ]
    }
   ],
   "source": [
    "!wget \"https://raw.githubusercontent.com/alexeygrigorev/datasets/master/AER_credit_card_data.csv\""
   ]
  },
  {
   "cell_type": "code",
   "execution_count": 3,
   "id": "c211d7dc",
   "metadata": {},
   "outputs": [],
   "source": [
    "data = pd.read_csv(\"AER_credit_card_data.csv\")"
   ]
  },
  {
   "cell_type": "code",
   "execution_count": 4,
   "id": "73fdb3a7",
   "metadata": {},
   "outputs": [
    {
     "name": "stdout",
     "output_type": "stream",
     "text": [
      "<class 'pandas.core.frame.DataFrame'>\n",
      "RangeIndex: 1319 entries, 0 to 1318\n",
      "Data columns (total 12 columns):\n",
      " #   Column       Non-Null Count  Dtype  \n",
      "---  ------       --------------  -----  \n",
      " 0   card         1319 non-null   object \n",
      " 1   reports      1319 non-null   int64  \n",
      " 2   age          1319 non-null   float64\n",
      " 3   income       1319 non-null   float64\n",
      " 4   share        1319 non-null   float64\n",
      " 5   expenditure  1319 non-null   float64\n",
      " 6   owner        1319 non-null   object \n",
      " 7   selfemp      1319 non-null   object \n",
      " 8   dependents   1319 non-null   int64  \n",
      " 9   months       1319 non-null   int64  \n",
      " 10  majorcards   1319 non-null   int64  \n",
      " 11  active       1319 non-null   int64  \n",
      "dtypes: float64(4), int64(5), object(3)\n",
      "memory usage: 123.8+ KB\n"
     ]
    }
   ],
   "source": [
    "data.info()"
   ]
  },
  {
   "cell_type": "code",
   "execution_count": 5,
   "id": "ab8d1f75",
   "metadata": {},
   "outputs": [
    {
     "data": {
      "text/html": [
       "<div>\n",
       "<style scoped>\n",
       "    .dataframe tbody tr th:only-of-type {\n",
       "        vertical-align: middle;\n",
       "    }\n",
       "\n",
       "    .dataframe tbody tr th {\n",
       "        vertical-align: top;\n",
       "    }\n",
       "\n",
       "    .dataframe thead th {\n",
       "        text-align: right;\n",
       "    }\n",
       "</style>\n",
       "<table border=\"1\" class=\"dataframe\">\n",
       "  <thead>\n",
       "    <tr style=\"text-align: right;\">\n",
       "      <th></th>\n",
       "      <th>card</th>\n",
       "      <th>reports</th>\n",
       "      <th>age</th>\n",
       "      <th>income</th>\n",
       "      <th>share</th>\n",
       "      <th>expenditure</th>\n",
       "      <th>owner</th>\n",
       "      <th>selfemp</th>\n",
       "      <th>dependents</th>\n",
       "      <th>months</th>\n",
       "      <th>majorcards</th>\n",
       "      <th>active</th>\n",
       "    </tr>\n",
       "  </thead>\n",
       "  <tbody>\n",
       "    <tr>\n",
       "      <th>0</th>\n",
       "      <td>yes</td>\n",
       "      <td>0</td>\n",
       "      <td>37.66667</td>\n",
       "      <td>4.5200</td>\n",
       "      <td>0.033270</td>\n",
       "      <td>124.983300</td>\n",
       "      <td>yes</td>\n",
       "      <td>no</td>\n",
       "      <td>3</td>\n",
       "      <td>54</td>\n",
       "      <td>1</td>\n",
       "      <td>12</td>\n",
       "    </tr>\n",
       "    <tr>\n",
       "      <th>1</th>\n",
       "      <td>yes</td>\n",
       "      <td>0</td>\n",
       "      <td>33.25000</td>\n",
       "      <td>2.4200</td>\n",
       "      <td>0.005217</td>\n",
       "      <td>9.854167</td>\n",
       "      <td>no</td>\n",
       "      <td>no</td>\n",
       "      <td>3</td>\n",
       "      <td>34</td>\n",
       "      <td>1</td>\n",
       "      <td>13</td>\n",
       "    </tr>\n",
       "    <tr>\n",
       "      <th>2</th>\n",
       "      <td>yes</td>\n",
       "      <td>0</td>\n",
       "      <td>33.66667</td>\n",
       "      <td>4.5000</td>\n",
       "      <td>0.004156</td>\n",
       "      <td>15.000000</td>\n",
       "      <td>yes</td>\n",
       "      <td>no</td>\n",
       "      <td>4</td>\n",
       "      <td>58</td>\n",
       "      <td>1</td>\n",
       "      <td>5</td>\n",
       "    </tr>\n",
       "    <tr>\n",
       "      <th>3</th>\n",
       "      <td>yes</td>\n",
       "      <td>0</td>\n",
       "      <td>30.50000</td>\n",
       "      <td>2.5400</td>\n",
       "      <td>0.065214</td>\n",
       "      <td>137.869200</td>\n",
       "      <td>no</td>\n",
       "      <td>no</td>\n",
       "      <td>0</td>\n",
       "      <td>25</td>\n",
       "      <td>1</td>\n",
       "      <td>7</td>\n",
       "    </tr>\n",
       "    <tr>\n",
       "      <th>4</th>\n",
       "      <td>yes</td>\n",
       "      <td>0</td>\n",
       "      <td>32.16667</td>\n",
       "      <td>9.7867</td>\n",
       "      <td>0.067051</td>\n",
       "      <td>546.503300</td>\n",
       "      <td>yes</td>\n",
       "      <td>no</td>\n",
       "      <td>2</td>\n",
       "      <td>64</td>\n",
       "      <td>1</td>\n",
       "      <td>5</td>\n",
       "    </tr>\n",
       "  </tbody>\n",
       "</table>\n",
       "</div>"
      ],
      "text/plain": [
       "  card  reports       age  income     share  expenditure owner selfemp  \\\n",
       "0  yes        0  37.66667  4.5200  0.033270   124.983300   yes      no   \n",
       "1  yes        0  33.25000  2.4200  0.005217     9.854167    no      no   \n",
       "2  yes        0  33.66667  4.5000  0.004156    15.000000   yes      no   \n",
       "3  yes        0  30.50000  2.5400  0.065214   137.869200    no      no   \n",
       "4  yes        0  32.16667  9.7867  0.067051   546.503300   yes      no   \n",
       "\n",
       "   dependents  months  majorcards  active  \n",
       "0           3      54           1      12  \n",
       "1           3      34           1      13  \n",
       "2           4      58           1       5  \n",
       "3           0      25           1       7  \n",
       "4           2      64           1       5  "
      ]
     },
     "execution_count": 5,
     "metadata": {},
     "output_type": "execute_result"
    }
   ],
   "source": [
    "data.head()"
   ]
  },
  {
   "cell_type": "markdown",
   "id": "c2124b5d",
   "metadata": {},
   "source": [
    "#### Create the target variable by mapping yes to 1 and no to 0.\n"
   ]
  },
  {
   "cell_type": "markdown",
   "id": "85c389fc",
   "metadata": {},
   "source": [
    "***Column card***"
   ]
  },
  {
   "cell_type": "code",
   "execution_count": 6,
   "id": "94a9b83d",
   "metadata": {},
   "outputs": [
    {
     "data": {
      "text/plain": [
       "yes    1023\n",
       "no      296\n",
       "Name: card, dtype: int64"
      ]
     },
     "execution_count": 6,
     "metadata": {},
     "output_type": "execute_result"
    }
   ],
   "source": [
    "data[\"card\"].value_counts()"
   ]
  },
  {
   "cell_type": "code",
   "execution_count": 7,
   "id": "5d95d7b6",
   "metadata": {},
   "outputs": [],
   "source": [
    "data[\"card\"] = np.where(data[\"card\"] == \"yes\", 1, 0) "
   ]
  },
  {
   "cell_type": "code",
   "execution_count": null,
   "id": "cbc1895d",
   "metadata": {},
   "outputs": [],
   "source": []
  },
  {
   "cell_type": "markdown",
   "id": "68814d17",
   "metadata": {},
   "source": [
    "#### Split the dataset into 3 parts: train/validation/test with 60%/20%/20% distribution. Use train_test_split funciton for that with random_state=1."
   ]
  },
  {
   "cell_type": "code",
   "execution_count": 8,
   "id": "ecfafd0c",
   "metadata": {},
   "outputs": [],
   "source": [
    "X = data.drop(\"card\", axis=1)\n",
    "y = data[\"card\"]"
   ]
  },
  {
   "cell_type": "code",
   "execution_count": 9,
   "id": "f8c5e291",
   "metadata": {},
   "outputs": [
    {
     "data": {
      "text/plain": [
       "((1055, 11), (264, 11), (1055,), (264,))"
      ]
     },
     "execution_count": 9,
     "metadata": {},
     "output_type": "execute_result"
    }
   ],
   "source": [
    "X_train_full, X_test, y_train_full, y_test = train_test_split(X, y, test_size=0.2, random_state=1)\n",
    "X_train_full.shape, X_test.shape, y_train_full.shape, y_test.shape"
   ]
  },
  {
   "cell_type": "code",
   "execution_count": 10,
   "id": "78e86980",
   "metadata": {
    "scrolled": true
   },
   "outputs": [
    {
     "data": {
      "text/html": [
       "<div>\n",
       "<style scoped>\n",
       "    .dataframe tbody tr th:only-of-type {\n",
       "        vertical-align: middle;\n",
       "    }\n",
       "\n",
       "    .dataframe tbody tr th {\n",
       "        vertical-align: top;\n",
       "    }\n",
       "\n",
       "    .dataframe thead th {\n",
       "        text-align: right;\n",
       "    }\n",
       "</style>\n",
       "<table border=\"1\" class=\"dataframe\">\n",
       "  <thead>\n",
       "    <tr style=\"text-align: right;\">\n",
       "      <th></th>\n",
       "      <th>reports</th>\n",
       "      <th>age</th>\n",
       "      <th>income</th>\n",
       "      <th>share</th>\n",
       "      <th>expenditure</th>\n",
       "      <th>owner</th>\n",
       "      <th>selfemp</th>\n",
       "      <th>dependents</th>\n",
       "      <th>months</th>\n",
       "      <th>majorcards</th>\n",
       "      <th>active</th>\n",
       "    </tr>\n",
       "  </thead>\n",
       "  <tbody>\n",
       "    <tr>\n",
       "      <th>710</th>\n",
       "      <td>1</td>\n",
       "      <td>36.83333</td>\n",
       "      <td>3.0000</td>\n",
       "      <td>0.000400</td>\n",
       "      <td>0.000000</td>\n",
       "      <td>yes</td>\n",
       "      <td>no</td>\n",
       "      <td>1</td>\n",
       "      <td>12</td>\n",
       "      <td>1</td>\n",
       "      <td>16</td>\n",
       "    </tr>\n",
       "    <tr>\n",
       "      <th>1258</th>\n",
       "      <td>0</td>\n",
       "      <td>35.58333</td>\n",
       "      <td>3.5606</td>\n",
       "      <td>0.109084</td>\n",
       "      <td>323.587500</td>\n",
       "      <td>no</td>\n",
       "      <td>no</td>\n",
       "      <td>0</td>\n",
       "      <td>12</td>\n",
       "      <td>1</td>\n",
       "      <td>0</td>\n",
       "    </tr>\n",
       "    <tr>\n",
       "      <th>435</th>\n",
       "      <td>0</td>\n",
       "      <td>25.66667</td>\n",
       "      <td>2.0000</td>\n",
       "      <td>0.004900</td>\n",
       "      <td>7.416667</td>\n",
       "      <td>no</td>\n",
       "      <td>no</td>\n",
       "      <td>0</td>\n",
       "      <td>26</td>\n",
       "      <td>1</td>\n",
       "      <td>13</td>\n",
       "    </tr>\n",
       "    <tr>\n",
       "      <th>987</th>\n",
       "      <td>0</td>\n",
       "      <td>25.58333</td>\n",
       "      <td>1.7500</td>\n",
       "      <td>0.000686</td>\n",
       "      <td>0.000000</td>\n",
       "      <td>no</td>\n",
       "      <td>no</td>\n",
       "      <td>0</td>\n",
       "      <td>108</td>\n",
       "      <td>0</td>\n",
       "      <td>0</td>\n",
       "    </tr>\n",
       "    <tr>\n",
       "      <th>1286</th>\n",
       "      <td>1</td>\n",
       "      <td>48.66667</td>\n",
       "      <td>6.0000</td>\n",
       "      <td>0.177017</td>\n",
       "      <td>885.085800</td>\n",
       "      <td>yes</td>\n",
       "      <td>no</td>\n",
       "      <td>3</td>\n",
       "      <td>114</td>\n",
       "      <td>1</td>\n",
       "      <td>19</td>\n",
       "    </tr>\n",
       "  </tbody>\n",
       "</table>\n",
       "</div>"
      ],
      "text/plain": [
       "      reports       age  income     share  expenditure owner selfemp  \\\n",
       "710         1  36.83333  3.0000  0.000400     0.000000   yes      no   \n",
       "1258        0  35.58333  3.5606  0.109084   323.587500    no      no   \n",
       "435         0  25.66667  2.0000  0.004900     7.416667    no      no   \n",
       "987         0  25.58333  1.7500  0.000686     0.000000    no      no   \n",
       "1286        1  48.66667  6.0000  0.177017   885.085800   yes      no   \n",
       "\n",
       "      dependents  months  majorcards  active  \n",
       "710            1      12           1      16  \n",
       "1258           0      12           1       0  \n",
       "435            0      26           1      13  \n",
       "987            0     108           0       0  \n",
       "1286           3     114           1      19  "
      ]
     },
     "execution_count": 10,
     "metadata": {},
     "output_type": "execute_result"
    }
   ],
   "source": [
    "X_train_full.head()"
   ]
  },
  {
   "cell_type": "code",
   "execution_count": 11,
   "id": "4a56b33f",
   "metadata": {},
   "outputs": [
    {
     "data": {
      "text/plain": [
       "((791, 11), (264, 11), (791,), (264,))"
      ]
     },
     "execution_count": 11,
     "metadata": {},
     "output_type": "execute_result"
    }
   ],
   "source": [
    "X_train, X_val, y_train, y_val = train_test_split(X_train_full, y_train_full, test_size=0.25, random_state=1)\n",
    "X_train.shape, X_val.shape, y_train.shape, y_val.shape"
   ]
  },
  {
   "cell_type": "code",
   "execution_count": 12,
   "id": "e77b2f70",
   "metadata": {},
   "outputs": [
    {
     "data": {
      "text/html": [
       "<div>\n",
       "<style scoped>\n",
       "    .dataframe tbody tr th:only-of-type {\n",
       "        vertical-align: middle;\n",
       "    }\n",
       "\n",
       "    .dataframe tbody tr th {\n",
       "        vertical-align: top;\n",
       "    }\n",
       "\n",
       "    .dataframe thead th {\n",
       "        text-align: right;\n",
       "    }\n",
       "</style>\n",
       "<table border=\"1\" class=\"dataframe\">\n",
       "  <thead>\n",
       "    <tr style=\"text-align: right;\">\n",
       "      <th></th>\n",
       "      <th>reports</th>\n",
       "      <th>age</th>\n",
       "      <th>income</th>\n",
       "      <th>share</th>\n",
       "      <th>expenditure</th>\n",
       "      <th>owner</th>\n",
       "      <th>selfemp</th>\n",
       "      <th>dependents</th>\n",
       "      <th>months</th>\n",
       "      <th>majorcards</th>\n",
       "      <th>active</th>\n",
       "    </tr>\n",
       "  </thead>\n",
       "  <tbody>\n",
       "    <tr>\n",
       "      <th>1081</th>\n",
       "      <td>0</td>\n",
       "      <td>24.00000</td>\n",
       "      <td>2.7811</td>\n",
       "      <td>0.052555</td>\n",
       "      <td>121.63330</td>\n",
       "      <td>no</td>\n",
       "      <td>no</td>\n",
       "      <td>0</td>\n",
       "      <td>3</td>\n",
       "      <td>1</td>\n",
       "      <td>0</td>\n",
       "    </tr>\n",
       "    <tr>\n",
       "      <th>479</th>\n",
       "      <td>0</td>\n",
       "      <td>34.25000</td>\n",
       "      <td>1.9440</td>\n",
       "      <td>0.000617</td>\n",
       "      <td>0.00000</td>\n",
       "      <td>no</td>\n",
       "      <td>no</td>\n",
       "      <td>1</td>\n",
       "      <td>54</td>\n",
       "      <td>1</td>\n",
       "      <td>1</td>\n",
       "    </tr>\n",
       "    <tr>\n",
       "      <th>317</th>\n",
       "      <td>0</td>\n",
       "      <td>39.75000</td>\n",
       "      <td>2.4200</td>\n",
       "      <td>0.017019</td>\n",
       "      <td>34.15583</td>\n",
       "      <td>yes</td>\n",
       "      <td>no</td>\n",
       "      <td>1</td>\n",
       "      <td>49</td>\n",
       "      <td>1</td>\n",
       "      <td>25</td>\n",
       "    </tr>\n",
       "    <tr>\n",
       "      <th>1103</th>\n",
       "      <td>2</td>\n",
       "      <td>25.91667</td>\n",
       "      <td>2.0700</td>\n",
       "      <td>0.000580</td>\n",
       "      <td>0.00000</td>\n",
       "      <td>no</td>\n",
       "      <td>no</td>\n",
       "      <td>0</td>\n",
       "      <td>20</td>\n",
       "      <td>0</td>\n",
       "      <td>7</td>\n",
       "    </tr>\n",
       "    <tr>\n",
       "      <th>1179</th>\n",
       "      <td>0</td>\n",
       "      <td>33.75000</td>\n",
       "      <td>2.5000</td>\n",
       "      <td>0.077518</td>\n",
       "      <td>161.16170</td>\n",
       "      <td>yes</td>\n",
       "      <td>no</td>\n",
       "      <td>1</td>\n",
       "      <td>30</td>\n",
       "      <td>1</td>\n",
       "      <td>6</td>\n",
       "    </tr>\n",
       "  </tbody>\n",
       "</table>\n",
       "</div>"
      ],
      "text/plain": [
       "      reports       age  income     share  expenditure owner selfemp  \\\n",
       "1081        0  24.00000  2.7811  0.052555    121.63330    no      no   \n",
       "479         0  34.25000  1.9440  0.000617      0.00000    no      no   \n",
       "317         0  39.75000  2.4200  0.017019     34.15583   yes      no   \n",
       "1103        2  25.91667  2.0700  0.000580      0.00000    no      no   \n",
       "1179        0  33.75000  2.5000  0.077518    161.16170   yes      no   \n",
       "\n",
       "      dependents  months  majorcards  active  \n",
       "1081           0       3           1       0  \n",
       "479            1      54           1       1  \n",
       "317            1      49           1      25  \n",
       "1103           0      20           0       7  \n",
       "1179           1      30           1       6  "
      ]
     },
     "execution_count": 12,
     "metadata": {},
     "output_type": "execute_result"
    }
   ],
   "source": [
    "X_val.head()"
   ]
  },
  {
   "cell_type": "markdown",
   "id": "942b02a4",
   "metadata": {},
   "source": [
    "## Question 1"
   ]
  },
  {
   "cell_type": "markdown",
   "id": "4866f215",
   "metadata": {},
   "source": [
    "ROC AUC could also be used to evaluate feature importance of numerical variables.\n",
    "\n",
    "Let's do that\n",
    "\n",
    "    For each numerical variable, use it as score and compute AUC with the card variable.\n",
    "    Use the training dataset for that.\n",
    "\n",
    "If your AUC is < 0.5, invert this variable by putting \"-\" in front\n",
    "\n",
    "(e.g. -df_train['expenditure'])\n",
    "\n",
    "AUC can go below 0.5 if the variable is negatively correlated with the target varialble. You can change the direction of the correlation by negating this variable - then negative correlation becomes positive.\n",
    "\n",
    "Which numerical variable (among the following 4) has the highest AUC?\n",
    "\n",
    "- reports\n",
    "- dependents\n",
    "- active\n",
    "- **share**"
   ]
  },
  {
   "cell_type": "code",
   "execution_count": 13,
   "id": "5a7e9a99",
   "metadata": {},
   "outputs": [
    {
     "data": {
      "text/plain": [
       "Index(['reports', 'age', 'income', 'share', 'expenditure', 'dependents',\n",
       "       'months', 'majorcards', 'active'],\n",
       "      dtype='object')"
      ]
     },
     "execution_count": 13,
     "metadata": {},
     "output_type": "execute_result"
    }
   ],
   "source": [
    "num_cols = X_train.select_dtypes(\"number\").columns\n",
    "num_cols"
   ]
  },
  {
   "cell_type": "code",
   "execution_count": 14,
   "id": "08fb45d0",
   "metadata": {
    "scrolled": false
   },
   "outputs": [
    {
     "data": {
      "image/png": "[encoded data removed]",
      "text/plain": [
       "<Figure size 400x400 with 1 Axes>"
      ]
     },
     "metadata": {},
     "output_type": "display_data"
    },
    {
     "data": {
      "image/png": "[encoded data removed]",
      "text/plain": [
       "<Figure size 400x400 with 1 Axes>"
      ]
     },
     "metadata": {},
     "output_type": "display_data"
    },
    {
     "data": {
      "image/png": "[encoded data removed]",
      "text/plain": [
       "<Figure size 400x400 with 1 Axes>"
      ]
     },
     "metadata": {},
     "output_type": "display_data"
    },
    {
     "data": {
      "image/png": "[encoded data removed]",
      "text/plain": [
       "<Figure size 400x400 with 1 Axes>"
      ]
     },
     "metadata": {},
     "output_type": "display_data"
    },
    {
     "data": {
      "image/png": "[encoded data removed]",
      "text/plain": [
       "<Figure size 400x400 with 1 Axes>"
      ]
     },
     "metadata": {},
     "output_type": "display_data"
    },
    {
     "data": {
      "image/png": "[encoded data removed]",
      "text/plain": [
       "<Figure size 400x400 with 1 Axes>"
      ]
     },
     "metadata": {},
     "output_type": "display_data"
    },
    {
     "data": {
      "image/png": "[encoded data removed]",
      "text/plain": [
       "<Figure size 400x400 with 1 Axes>"
      ]
     },
     "metadata": {},
     "output_type": "display_data"
    },
    {
     "data": {
      "image/png": "[encoded data removed]",
      "text/plain": [
       "<Figure size 400x400 with 1 Axes>"
      ]
     },
     "metadata": {},
     "output_type": "display_data"
    },
    {
     "data": {
      "image/png": "[encoded data removed]",
      "text/plain": [
       "<Figure size 400x400 with 1 Axes>"
      ]
     },
     "metadata": {},
     "output_type": "display_data"
    }
   ],
   "source": [
    "AUC_ROC_score = []\n",
    "\n",
    "for col in num_cols:\n",
    "    fpr, tpr, _ = roc_curve(y_train, X_train[col])\n",
    "    plt.figure(figsize=(4,4),)\n",
    "    plt.plot([0, 1], [0, 1], color=\"green\", lw=1, linestyle=\"--\")\n",
    "    plt.plot(fpr,tpr)\n",
    "    roc_score = (round(roc_auc_score(y_train, X_train[col]),3))\n",
    "    AUC_ROC_score.append(roc_score)\n",
    "    plt.title(f\"{col} AUC_ROC score: {str(roc_score)}\")\n",
    "    plt.show()"
   ]
  },
  {
   "cell_type": "code",
   "execution_count": 15,
   "id": "6eab6dde",
   "metadata": {},
   "outputs": [
    {
     "data": {
      "text/html": [
       "<div>\n",
       "<style scoped>\n",
       "    .dataframe tbody tr th:only-of-type {\n",
       "        vertical-align: middle;\n",
       "    }\n",
       "\n",
       "    .dataframe tbody tr th {\n",
       "        vertical-align: top;\n",
       "    }\n",
       "\n",
       "    .dataframe thead th {\n",
       "        text-align: right;\n",
       "    }\n",
       "</style>\n",
       "<table border=\"1\" class=\"dataframe\">\n",
       "  <thead>\n",
       "    <tr style=\"text-align: right;\">\n",
       "      <th></th>\n",
       "      <th>columns</th>\n",
       "      <th>ROC_score</th>\n",
       "    </tr>\n",
       "  </thead>\n",
       "  <tbody>\n",
       "    <tr>\n",
       "      <th>0</th>\n",
       "      <td>reports</td>\n",
       "      <td>0.283</td>\n",
       "    </tr>\n",
       "    <tr>\n",
       "      <th>1</th>\n",
       "      <td>age</td>\n",
       "      <td>0.476</td>\n",
       "    </tr>\n",
       "    <tr>\n",
       "      <th>2</th>\n",
       "      <td>income</td>\n",
       "      <td>0.591</td>\n",
       "    </tr>\n",
       "    <tr>\n",
       "      <th>3</th>\n",
       "      <td>share</td>\n",
       "      <td>0.989</td>\n",
       "    </tr>\n",
       "    <tr>\n",
       "      <th>4</th>\n",
       "      <td>expenditure</td>\n",
       "      <td>0.991</td>\n",
       "    </tr>\n",
       "    <tr>\n",
       "      <th>5</th>\n",
       "      <td>dependents</td>\n",
       "      <td>0.467</td>\n",
       "    </tr>\n",
       "    <tr>\n",
       "      <th>6</th>\n",
       "      <td>months</td>\n",
       "      <td>0.471</td>\n",
       "    </tr>\n",
       "    <tr>\n",
       "      <th>7</th>\n",
       "      <td>majorcards</td>\n",
       "      <td>0.534</td>\n",
       "    </tr>\n",
       "    <tr>\n",
       "      <th>8</th>\n",
       "      <td>active</td>\n",
       "      <td>0.604</td>\n",
       "    </tr>\n",
       "  </tbody>\n",
       "</table>\n",
       "</div>"
      ],
      "text/plain": [
       "       columns  ROC_score\n",
       "0      reports      0.283\n",
       "1          age      0.476\n",
       "2       income      0.591\n",
       "3        share      0.989\n",
       "4  expenditure      0.991\n",
       "5   dependents      0.467\n",
       "6       months      0.471\n",
       "7   majorcards      0.534\n",
       "8       active      0.604"
      ]
     },
     "execution_count": 15,
     "metadata": {},
     "output_type": "execute_result"
    }
   ],
   "source": [
    "ROC_df = pd.DataFrame({\"columns\":num_cols, \"ROC_score\": AUC_ROC_score})\n",
    "ROC_df"
   ]
  },
  {
   "cell_type": "markdown",
   "id": "9ef942eb",
   "metadata": {},
   "source": [
    "**Column <u><i>share</i></u> has the highest AUC_ROC Score** "
   ]
  },
  {
   "cell_type": "markdown",
   "id": "2b6911e0",
   "metadata": {},
   "source": [
    "## Training the model"
   ]
  },
  {
   "cell_type": "markdown",
   "id": "05ef463b",
   "metadata": {},
   "source": [
    "From now on, use these columns only:\n",
    "\n",
    "[\"reports\", \"age\", \"income\", \"share\", \"expenditure\", \"dependents\", \"months\", \"majorcards\", \"active\", \"owner\", \"selfemp\"]\n",
    "\n"
   ]
  },
  {
   "cell_type": "code",
   "execution_count": 16,
   "id": "540272f0",
   "metadata": {},
   "outputs": [],
   "source": [
    "features = [\"reports\", \"age\", \"income\", \"share\", \"expenditure\", \"dependents\", \"months\", \"majorcards\", \n",
    "            \"active\", \"owner\", \"selfemp\"]"
   ]
  },
  {
   "cell_type": "code",
   "execution_count": null,
   "id": "d610f058",
   "metadata": {},
   "outputs": [],
   "source": []
  },
  {
   "cell_type": "markdown",
   "id": "647441eb",
   "metadata": {},
   "source": [
    "### Encoding columns owner, selfemp"
   ]
  },
  {
   "cell_type": "markdown",
   "id": "72a8fb61",
   "metadata": {},
   "source": [
    "***Column owner***"
   ]
  },
  {
   "cell_type": "code",
   "execution_count": 17,
   "id": "af3c5026",
   "metadata": {},
   "outputs": [],
   "source": [
    "X_train[\"owner\"] = np.where(X_train[\"owner\"] == \"yes\", 1, 0) \n",
    "X_val[\"owner\"] = np.where(X_val[\"owner\"] == \"yes\", 1, 0) \n",
    "X_test[\"owner\"] = np.where(X_test[\"owner\"] == \"yes\", 1, 0) "
   ]
  },
  {
   "cell_type": "markdown",
   "id": "577501d8",
   "metadata": {},
   "source": [
    "***Column selfemp***"
   ]
  },
  {
   "cell_type": "code",
   "execution_count": 18,
   "id": "51988b7b",
   "metadata": {},
   "outputs": [],
   "source": [
    "X_train[\"selfemp\"] = np.where(X_train[\"selfemp\"] == \"yes\", 1, 0) \n",
    "X_val[\"selfemp\"] = np.where(X_val[\"selfemp\"] == \"yes\", 1, 0) \n",
    "X_test[\"selfemp\"] = np.where(X_test[\"selfemp\"] == \"yes\", 1, 0) "
   ]
  },
  {
   "cell_type": "markdown",
   "id": "3b0dac03",
   "metadata": {},
   "source": [
    "**Apply one-hot-encoding using DictVectorizer and train the logistic regression with these parameters:**"
   ]
  },
  {
   "cell_type": "code",
   "execution_count": 19,
   "id": "75d4f649",
   "metadata": {},
   "outputs": [],
   "source": [
    "from sklearn.feature_extraction import DictVectorizer\n",
    "\n",
    "dv = DictVectorizer(sparse=False)\n",
    "train_dict = X_train[features].to_dict(orient='records')\n",
    "Xtrain = dv.fit_transform(train_dict)\n",
    "\n",
    "val_dict = X_val[features].to_dict(orient='records')\n",
    "Xval = dv.transform(val_dict)\n",
    "\n",
    "test_dict = X_test[features].to_dict(orient='records')\n",
    "Xtest = dv.fit_transform(test_dict)\n"
   ]
  },
  {
   "cell_type": "markdown",
   "id": "60c84102",
   "metadata": {},
   "source": [
    "**Train the logistic regression with these parameters**"
   ]
  },
  {
   "cell_type": "code",
   "execution_count": 20,
   "id": "cd64bfd5",
   "metadata": {},
   "outputs": [],
   "source": [
    "log_reg = LogisticRegression(solver='liblinear', C=1.0, max_iter=1000)"
   ]
  },
  {
   "cell_type": "code",
   "execution_count": 21,
   "id": "182cb658",
   "metadata": {},
   "outputs": [
    {
     "name": "stdout",
     "output_type": "stream",
     "text": [
      "Train ROC score:  0.997\n"
     ]
    }
   ],
   "source": [
    "model = log_reg.fit(Xtrain, y_train)\n",
    "y_train_pred_proba = model.predict_proba(Xtrain)[:,1]\n",
    "\n",
    "# y_train_pred = np.where(y_train_pred_proba >= 0.5, 1, 0)\n",
    "\n",
    "ROC_train_score = roc_auc_score(y_train, y_train_pred_proba)\n",
    "print(\"Train ROC score: \", round(ROC_train_score,3))"
   ]
  },
  {
   "cell_type": "code",
   "execution_count": null,
   "id": "e59147a3",
   "metadata": {},
   "outputs": [],
   "source": []
  },
  {
   "cell_type": "markdown",
   "id": "46a745d1",
   "metadata": {},
   "source": [
    "## Question 2"
   ]
  },
  {
   "cell_type": "markdown",
   "id": "a9bf9e21",
   "metadata": {},
   "source": [
    "What's the AUC of this model on the validation dataset? (round to 3 digits)\n",
    "\n",
    "- 0.615\n",
    "- 0.515\n",
    "- 0.715\n",
    "- **0.995**"
   ]
  },
  {
   "cell_type": "markdown",
   "id": "29a9bc09",
   "metadata": {},
   "source": [
    "### Validation ROC score "
   ]
  },
  {
   "cell_type": "code",
   "execution_count": 22,
   "id": "37966109",
   "metadata": {},
   "outputs": [
    {
     "name": "stdout",
     "output_type": "stream",
     "text": [
      "Validation ROC score:  0.995\n"
     ]
    }
   ],
   "source": [
    "y_val_pred_proba = model.predict_proba(Xval)[:,1]\n",
    "\n",
    "# y_val_pred = np.where(y_val_pred_proba >= 0.5, 1, 0)\n",
    "\n",
    "ROC_val_score = roc_auc_score(y_val, y_val_pred_proba)\n",
    "\n",
    "print(\"Validation ROC score: \", round(ROC_val_score,3))"
   ]
  },
  {
   "cell_type": "markdown",
   "id": "41eecea4",
   "metadata": {},
   "source": [
    "## Question 3"
   ]
  },
  {
   "cell_type": "markdown",
   "id": "9f4c44bb",
   "metadata": {},
   "source": [
    "Now let's compute precision and recall for our model.\n",
    "\n",
    "    Evaluate the model on all thresholds from 0.0 to 1.0 with step 0.01\n",
    "    For each threshold, compute precision and recall\n",
    "    Plot them\n",
    "\n",
    "At which threshold precision and recall curves intersect?\n",
    "\n",
    "- 0.1\n",
    "- **0.3**\n",
    "- 0.6\n",
    "- 0.8"
   ]
  },
  {
   "cell_type": "markdown",
   "id": "4a73743e",
   "metadata": {},
   "source": [
    "### Precision and Recall scores calculation for various Thresholds"
   ]
  },
  {
   "cell_type": "code",
   "execution_count": 23,
   "id": "eb4b0020",
   "metadata": {},
   "outputs": [],
   "source": [
    "precision_list = []\n",
    "recall_list = []\n",
    "thresholds = np.arange(0.0, 1.0, 0.01)\n",
    "y_val_pred_proba = model.predict_proba(Xval)[:,1]\n",
    "\n",
    "for t in thresholds:\n",
    "    \n",
    "    actual_positive = (y_train == 1)\n",
    "    actual_negative = (y_train == 0)\n",
    "    \n",
    "    predict_positive = (y_train_pred_proba >= t)\n",
    "    predict_negative = (y_train_pred_proba < t)\n",
    "    \n",
    "    tp = (actual_positive & predict_positive).sum()\n",
    "    tn = (actual_negative & predict_negative).sum()\n",
    "    \n",
    "    fp = (actual_negative & predict_positive).sum()\n",
    "    fn = (actual_positive & predict_negative).sum()\n",
    "    \n",
    "    # Precision\n",
    "    precision = tp/(tp + fp)\n",
    "    precision_list.append(precision)\n",
    "    \n",
    "    # Recall\n",
    "    recall = tp/(tp + fn)\n",
    "    recall_list.append(recall)"
   ]
  },
  {
   "cell_type": "markdown",
   "id": "02b883b3",
   "metadata": {},
   "source": [
    "### Plot of Precision and Recall vs Thresholds"
   ]
  },
  {
   "cell_type": "code",
   "execution_count": 24,
   "id": "3c643b3f",
   "metadata": {},
   "outputs": [
    {
     "data": {
      "image/png": "[encoded data removed]",
      "text/plain": [
       "<Figure size 1000x1000 with 1 Axes>"
      ]
     },
     "metadata": {},
     "output_type": "display_data"
    }
   ],
   "source": [
    "plt.figure(figsize=(10,10))\n",
    "plt.xlabel(\"Threshold Values\")\n",
    "plt.ylabel(\"Precision and Recall Values\")\n",
    "plt.title(\"Precision and Recall vs Threshold\")\n",
    "plt.xticks(np.arange(0, 1, step=0.1))\n",
    "\n",
    "sns.lineplot(x=thresholds, y=recall_list, label=\"Recall\")\n",
    "sns.lineplot(x=thresholds, y=precision_list, label=\"Precision\")\n",
    " \n",
    "plt.vlines(0.25, 0, 1, color='green', linestyle='dashdot', alpha=0.7)\n",
    "plt.show()"
   ]
  },
  {
   "cell_type": "code",
   "execution_count": null,
   "id": "b04c6d4f",
   "metadata": {},
   "outputs": [],
   "source": []
  },
  {
   "cell_type": "markdown",
   "id": "e7104f1b",
   "metadata": {},
   "source": [
    "## Question 4"
   ]
  },
  {
   "cell_type": "markdown",
   "id": "cf9ee026",
   "metadata": {},
   "source": [
    "Precision and recall are conflicting - when one grows, the other goes down. That's why they are often combined into the F1 score - a metrics that takes into account both\n",
    "\n",
    "This is the formula for computing F1:\n",
    "\n",
    "F1 = 2 * P * R / (P + R)\n",
    "\n",
    "Where P is precision and R is recall.\n",
    "\n",
    "Let's compute F1 for all thresholds from 0.0 to 1.0 with increment 0.01\n",
    "\n",
    "At which threshold F1 is maximal?\n",
    "\n",
    "- 0.1\n",
    "- **0.4**\n",
    "- 0.6\n",
    "- 0.7"
   ]
  },
  {
   "cell_type": "markdown",
   "id": "fd2da731",
   "metadata": {},
   "source": [
    "### f1 Calculation"
   ]
  },
  {
   "cell_type": "code",
   "execution_count": 25,
   "id": "de763e14",
   "metadata": {},
   "outputs": [],
   "source": [
    "f1 = (2 * np.array(precision_list) * np.array(recall_list)) / (np.array(precision_list) + np.array(recall_list))"
   ]
  },
  {
   "cell_type": "code",
   "execution_count": 26,
   "id": "792e2113",
   "metadata": {},
   "outputs": [
    {
     "data": {
      "text/plain": [
       "42"
      ]
     },
     "execution_count": 26,
     "metadata": {},
     "output_type": "execute_result"
    }
   ],
   "source": [
    "# f1 maximum value's index\n",
    "f1.argmax()"
   ]
  },
  {
   "cell_type": "code",
   "execution_count": 27,
   "id": "de14d8dc",
   "metadata": {},
   "outputs": [
    {
     "data": {
      "text/plain": [
       "(array([42, 43, 44], dtype=int64),)"
      ]
     },
     "execution_count": 27,
     "metadata": {},
     "output_type": "execute_result"
    }
   ],
   "source": [
    "# Indices where f1 value is maximum\n",
    "\n",
    "np.where(f1 == f1.max())"
   ]
  },
  {
   "cell_type": "markdown",
   "id": "d98719bf",
   "metadata": {},
   "source": [
    "### Plot of f1 vs Thresholds"
   ]
  },
  {
   "cell_type": "code",
   "execution_count": 28,
   "id": "cc58f415",
   "metadata": {},
   "outputs": [
    {
     "data": {
      "image/png": "[encoded data removed]",
      "text/plain": [
       "<Figure size 1000x500 with 1 Axes>"
      ]
     },
     "metadata": {},
     "output_type": "display_data"
    }
   ],
   "source": [
    "plt.figure(figsize=(10,5))\n",
    "plt.xlabel(\"Threshold Values\")\n",
    "plt.ylabel(\"f1 Values\")\n",
    "plt.title(\"f1 vs Threshold\")\n",
    "plt.xticks(np.arange(0, 1, step=0.1))\n",
    "\n",
    "sns.lineplot(x=thresholds, y=f1, label=\"f1\")\n",
    " \n",
    "plt.vlines(0.42, 0, 1, color='green', linestyle='dashdot', alpha=0.7)\n",
    "plt.show()"
   ]
  },
  {
   "cell_type": "markdown",
   "id": "0ed58730",
   "metadata": {},
   "source": [
    "f1 maximal value is closest to ***0.4***"
   ]
  },
  {
   "cell_type": "code",
   "execution_count": null,
   "id": "313e64a8",
   "metadata": {},
   "outputs": [],
   "source": []
  },
  {
   "cell_type": "markdown",
   "id": "4ff46a11",
   "metadata": {},
   "source": [
    "## Question 5"
   ]
  },
  {
   "cell_type": "markdown",
   "id": "86e12c66",
   "metadata": {},
   "source": [
    "Use the KFold class from Scikit-Learn to evaluate our model on 5 different folds:\n",
    "\n",
    "KFold(n_splits=5, shuffle=True, random_state=1)\n",
    "\n",
    "- Iterate over different folds of df_full_train\n",
    "- Split the data into train and validation\n",
    "- Train the model on train with these parameters: LogisticRegression(solver='liblinear', C=1.0, max_iter=1000)\n",
    "- Use AUC to evaluate the model on validation\n",
    "\n",
    "How large is standard devidation of the AUC scores across different folds?\n",
    "\n",
    "- **0.003**\n",
    "- 0.014\n",
    "- 0.09\n",
    "- 0.24"
   ]
  },
  {
   "cell_type": "markdown",
   "id": "5f4971a6",
   "metadata": {},
   "source": [
    "### Function Definitions"
   ]
  },
  {
   "cell_type": "code",
   "execution_count": 29,
   "id": "81d3c612",
   "metadata": {},
   "outputs": [],
   "source": [
    "def train_model(X_train, y_train, C=1.0):\n",
    "    \n",
    "    dv = DictVectorizer(sparse=False)\n",
    "    \n",
    "    train_dict = X_train.to_dict(orient='records')\n",
    "    Xtrain = dv.fit_transform(train_dict)\n",
    "    \n",
    "    model = LogisticRegression(solver='liblinear', C=C, max_iter=1000)\n",
    "    model.fit(Xtrain, y_train)\n",
    "    \n",
    "    return dv, model"
   ]
  },
  {
   "cell_type": "code",
   "execution_count": 30,
   "id": "7d6f31d7",
   "metadata": {},
   "outputs": [],
   "source": [
    "def predict(X_val, y_val, dv, model):\n",
    "    \n",
    "    val_dict = X_val.to_dict(orient='records')\n",
    "    Xval = dv.transform(val_dict)\n",
    "    \n",
    "    y_val_pred = model.predict_proba(Xval)[:, 1]\n",
    "    \n",
    "    AUC_score = roc_auc_score(y_val, y_val_pred)\n",
    "\n",
    "    return AUC_score    "
   ]
  },
  {
   "cell_type": "markdown",
   "id": "dc06ee90",
   "metadata": {},
   "source": [
    "### KFold definition and train_test split"
   ]
  },
  {
   "cell_type": "code",
   "execution_count": 31,
   "id": "d6596503",
   "metadata": {},
   "outputs": [
    {
     "data": {
      "text/plain": [
       "5"
      ]
     },
     "execution_count": 31,
     "metadata": {},
     "output_type": "execute_result"
    }
   ],
   "source": [
    "from sklearn.model_selection import KFold\n",
    "\n",
    "kfold = KFold(n_splits=5, shuffle=True, random_state=1)\n",
    "kfold.get_n_splits()"
   ]
  },
  {
   "cell_type": "code",
   "execution_count": 32,
   "id": "70e98262",
   "metadata": {},
   "outputs": [],
   "source": [
    "train, test = train_test_split(data, test_size=0.2, random_state=1)"
   ]
  },
  {
   "cell_type": "markdown",
   "id": "4c6074a7",
   "metadata": {},
   "source": [
    "### AUC Scores and their standard deviation for KFold splits = 5"
   ]
  },
  {
   "cell_type": "code",
   "execution_count": 33,
   "id": "f4e46948",
   "metadata": {
    "scrolled": false
   },
   "outputs": [],
   "source": [
    "score = []\n",
    "\n",
    "for train_index, val_index in kfold.split(train):\n",
    "    \n",
    "    X_train = train.iloc[train_index].drop(\"card\", axis=1)\n",
    "    y_train = train.iloc[train_index].card\n",
    "    \n",
    "    X_val = train.iloc[val_index].drop(\"card\", axis=1)\n",
    "    y_val = train.iloc[val_index].card\n",
    "    \n",
    "    dv, model = train_model(X_train, y_train, C=1.0)\n",
    "    score.append(predict(X_val, y_val, dv, model))"
   ]
  },
  {
   "cell_type": "code",
   "execution_count": 34,
   "id": "d85a8203",
   "metadata": {},
   "outputs": [
    {
     "name": "stdout",
     "output_type": "stream",
     "text": [
      "Standard Deviation of AUC_ROC score using KFold=5 is:  0.003\n"
     ]
    }
   ],
   "source": [
    "print(\"Standard Deviation of AUC_ROC score using KFold=5 is: \", round(np.array(score).std(),3))"
   ]
  },
  {
   "cell_type": "code",
   "execution_count": null,
   "id": "48e83706",
   "metadata": {},
   "outputs": [],
   "source": []
  },
  {
   "cell_type": "markdown",
   "id": "e61f55b7",
   "metadata": {},
   "source": [
    "## Question 6"
   ]
  },
  {
   "cell_type": "markdown",
   "id": "a12e2df6",
   "metadata": {},
   "source": [
    "Now let's use 5-Fold cross-validation to find the best parameter C\n",
    "\n",
    "    Iterate over the following C values: [0.01, 0.1, 1, 10]\n",
    "    Initialize KFold with the same parameters as previously\n",
    "    Use these parametes for the model: LogisticRegression(solver='liblinear', C=C, max_iter=1000)\n",
    "    Compute the mean score as well as the std (round the mean and std to 3 decimal digits)\n",
    "\n",
    "Which C leads to the best mean score?\n",
    "\n",
    "- 0.01\n",
    "- 0.1\n",
    "- **1**\n",
    "- 10\n",
    "\n",
    "If you have ties, select the score with the lowest std. If you still have ties, select the smallest C"
   ]
  },
  {
   "cell_type": "markdown",
   "id": "e120d78f",
   "metadata": {},
   "source": [
    "### Function Definitions"
   ]
  },
  {
   "cell_type": "code",
   "execution_count": 35,
   "id": "bd4f49cd",
   "metadata": {},
   "outputs": [],
   "source": [
    "def train_model(X_train, y_train, C=1.0):\n",
    "    \n",
    "    dv = DictVectorizer(sparse=False)\n",
    "    \n",
    "    train_dict = X_train.to_dict(orient='records')\n",
    "    Xtrain = dv.fit_transform(train_dict)\n",
    "    \n",
    "    model = LogisticRegression(solver='liblinear', C=C, max_iter=1000)\n",
    "    model.fit(Xtrain, y_train)\n",
    "    \n",
    "    return dv, model"
   ]
  },
  {
   "cell_type": "code",
   "execution_count": 36,
   "id": "5d14cea9",
   "metadata": {},
   "outputs": [],
   "source": [
    "def predict(X_val, y_val, dv, model):\n",
    "    \n",
    "    val_dict = X_val.to_dict(orient='records')\n",
    "    Xval = dv.transform(val_dict)\n",
    "    \n",
    "    y_val_pred = model.predict_proba(Xval)[:, 1]\n",
    "    \n",
    "    AUC_score = roc_auc_score(y_val, y_val_pred)\n",
    "\n",
    "    return AUC_score    "
   ]
  },
  {
   "cell_type": "code",
   "execution_count": 37,
   "id": "c69adc82",
   "metadata": {},
   "outputs": [],
   "source": [
    "def kfold_crossvalidation_scores(kfold, train, c):\n",
    "    \n",
    "    score = []\n",
    "    for train_index, val_index in kfold.split(train):\n",
    "    \n",
    "        X_train = train.iloc[train_index].drop(\"card\", axis=1)\n",
    "        y_train = train.iloc[train_index].card\n",
    "\n",
    "        X_val = train.iloc[val_index].drop(\"card\", axis=1)\n",
    "        y_val = train.iloc[val_index].card\n",
    "\n",
    "        dv, model = train_model(X_train, y_train, C=c)\n",
    "        score.append(predict(X_val, y_val, dv, model))\n",
    "    \n",
    "    return score"
   ]
  },
  {
   "cell_type": "markdown",
   "id": "8f669337",
   "metadata": {},
   "source": [
    "### KFold definition and train_test split  "
   ]
  },
  {
   "cell_type": "code",
   "execution_count": 38,
   "id": "b52b9b94",
   "metadata": {},
   "outputs": [
    {
     "data": {
      "text/plain": [
       "5"
      ]
     },
     "execution_count": 38,
     "metadata": {},
     "output_type": "execute_result"
    }
   ],
   "source": [
    "from sklearn.model_selection import KFold\n",
    "\n",
    "kfold = KFold(n_splits=5, shuffle=True, random_state=1)\n",
    "kfold.get_n_splits() "
   ]
  },
  {
   "cell_type": "code",
   "execution_count": 39,
   "id": "6a383dd8",
   "metadata": {},
   "outputs": [],
   "source": [
    "train, test = train_test_split(data, test_size=0.2, random_state=1)"
   ]
  },
  {
   "cell_type": "markdown",
   "id": "6c63421d",
   "metadata": {},
   "source": [
    "### AUC Scores, mean and std. dev for different values of C "
   ]
  },
  {
   "cell_type": "code",
   "execution_count": 40,
   "id": "07b5fb5b",
   "metadata": {
    "scrolled": false
   },
   "outputs": [
    {
     "name": "stdout",
     "output_type": "stream",
     "text": [
      "For C: 0.01\n",
      "KFold Crossvalidation\n",
      "AUC ROC Scores: [0.98421926910299, 0.9875, 0.9922266139657444, 0.9954592631032693, 1.0]\n",
      "mean: 0.992\n",
      "std: 0.006\n",
      "\n",
      "For C: 0.1\n",
      "KFold Crossvalidation\n",
      "AUC ROC Scores: [0.9900332225913621, 0.991421568627451, 0.9948616600790514, 0.9989621172807472, 1.0]\n",
      "mean: 0.995\n",
      "std: 0.004\n",
      "\n",
      "For C: 1\n",
      "KFold Crossvalidation\n",
      "AUC ROC Scores: [0.9941860465116279, 0.9941176470588236, 0.9943346508563901, 0.9996107939802803, 1.0]\n",
      "mean: 0.996\n",
      "std: 0.003\n",
      "\n",
      "For C: 10\n",
      "KFold Crossvalidation\n",
      "AUC ROC Scores: [0.9934939091915835, 0.9942401960784313, 0.9945981554677206, 0.9996107939802803, 1.0]\n",
      "mean: 0.996\n",
      "std: 0.003\n",
      "\n"
     ]
    }
   ],
   "source": [
    "C_values = [0.01, 0.1, 1, 10]\n",
    "c_AUC_score = dict()\n",
    "\n",
    "for c in C_values:\n",
    "    c_AUC_score[c] = kfold_crossvalidation_scores(kfold, train, c)\n",
    "    print(f\"For C: {c}\")\n",
    "    print(\"KFold Crossvalidation\")\n",
    "    print(f\"AUC ROC Scores: {c_AUC_score[c]}\")\n",
    "    print(f\"mean: {round(np.array(c_AUC_score[c]).mean(),3)}\")\n",
    "    print(f\"std: {round(np.array(c_AUC_score[c]).std(),3)}\")\n",
    "    print()\n"
   ]
  },
  {
   "cell_type": "markdown",
   "id": "ec44dfac",
   "metadata": {},
   "source": [
    "**C = 1** gives the best mean score of 0.996"
   ]
  },
  {
   "cell_type": "code",
   "execution_count": null,
   "id": "d8d22033",
   "metadata": {},
   "outputs": [],
   "source": []
  }
 ],
 "metadata": {
  "kernelspec": {
   "display_name": "Python 3",
   "language": "python",
   "name": "python3"
  },
  "language_info": {
   "codemirror_mode": {
    "name": "ipython",
    "version": 3
   },
   "file_extension": ".py",
   "mimetype": "text/x-python",
   "name": "python",
   "nbconvert_exporter": "python",
   "pygments_lexer": "ipython3",
   "version": "3.9.13"
  }
 },
 "nbformat": 4,
 "nbformat_minor": 5
}
