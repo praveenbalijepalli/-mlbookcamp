{
 "cells": [
  {
   "cell_type": "code",
   "execution_count": 1,
   "id": "8d58c201",
   "metadata": {},
   "outputs": [],
   "source": [
    "import numpy as np\n",
    "import sklearn"
   ]
  },
  {
   "cell_type": "markdown",
   "id": "1ae8c38c",
   "metadata": {},
   "source": [
    "Question 1\n",
    "\n",
    "    Install Pipenv\n",
    "    What's the version of pipenv you installed?\n",
    "    Use --version to find out"
   ]
  },
  {
   "cell_type": "code",
   "execution_count": 2,
   "id": "7d8e36b8",
   "metadata": {},
   "outputs": [
    {
     "name": "stdout",
     "output_type": "stream",
     "text": [
      "pipenv, version 2022.10.4\n",
      "\n"
     ]
    }
   ],
   "source": [
    "!pipenv --version"
   ]
  },
  {
   "cell_type": "code",
   "execution_count": null,
   "id": "be8305fa",
   "metadata": {},
   "outputs": [],
   "source": []
  },
  {
   "cell_type": "markdown",
   "id": "0070c7d3",
   "metadata": {},
   "source": [
    "Question 2\n",
    "\n",
    "    Use Pipenv to install Scikit-Learn version 1.0.2\n",
    "    What's the first hash for scikit-learn you get in Pipfile.lock?\n",
    "\n",
    "Models\n",
    "\n",
    "We've prepared a dictionary vectorizer and a model.\n",
    "\n",
    "They were trained (roughly) using this code:\n",
    "\n",
    "features = ['reports', 'share', 'expenditure', 'owner']\n",
    "dicts = df[features].to_dict(orient='records')\n",
    "\n",
    "dv = DictVectorizer(sparse=False)\n",
    "X = dv.fit_transform(dicts)\n",
    "\n",
    "model = LogisticRegression(solver='liblinear').fit(X, y)\n",
    "\n",
    "    Note: You don't need to train the model. This code is just for your reference.\n",
    "\n",
    "And then saved with Pickle. Download them:\n",
    "\n",
    "    DictVectorizer\n",
    "    LogisticRegression\n",
    "\n",
    "With wget:\n",
    "\n",
    "PREFIX=https://raw.githubusercontent.com/alexeygrigorev/mlbookcamp-code/master/course-zoomcamp/cohorts/2022/05-deployment/homework\n",
    "\n",
    "wget $PREFIX/model1.bin\n",
    "\n",
    "wget $PREFIX/dv.bin"
   ]
  },
  {
   "cell_type": "code",
   "execution_count": 3,
   "id": "03e4f72a",
   "metadata": {},
   "outputs": [
    {
     "name": "stderr",
     "output_type": "stream",
     "text": [
      "--2022-10-11 00:29:12--  https://raw.githubusercontent.com/alexeygrigorev/mlbookcamp-code/master/course-zoomcamp/cohorts/2022/05-deployment/homework/model1.bin\n",
      "Resolving raw.githubusercontent.com (raw.githubusercontent.com)... 185.199.108.133, 185.199.109.133, 185.199.110.133, ...\n",
      "Connecting to raw.githubusercontent.com (raw.githubusercontent.com)|185.199.108.133|:443... connected.\n",
      "HTTP request sent, awaiting response... 200 OK\n",
      "Length: 889 [application/octet-stream]\n",
      "Saving to: 'model1.bin'\n",
      "\n",
      "     0K                                                       100% 37.3M=0s\n",
      "\n",
      "2022-10-11 00:29:12 (37.3 MB/s) - 'model1.bin' saved [889/889]\n",
      "\n",
      "--2022-10-11 00:29:12--  https://raw.githubusercontent.com/alexeygrigorev/mlbookcamp-code/master/course-zoomcamp/cohorts/2022/05-deployment/homework/dv.bin\n",
      "Resolving raw.githubusercontent.com (raw.githubusercontent.com)... 185.199.108.133, 185.199.109.133, 185.199.110.133, ...\n",
      "Connecting to raw.githubusercontent.com (raw.githubusercontent.com)|185.199.108.133|:443... connected.\n",
      "HTTP request sent, awaiting response... 200 OK\n",
      "Length: 333 [application/octet-stream]\n",
      "Saving to: 'dv.bin'\n",
      "\n",
      "     0K                                                       100% 14.7M=0s\n",
      "\n",
      "2022-10-11 00:29:12 (14.7 MB/s) - 'dv.bin' saved [333/333]\n",
      "\n"
     ]
    }
   ],
   "source": [
    "PREFIX = \"https://raw.githubusercontent.com/alexeygrigorev/mlbookcamp-code/master/course-zoomcamp/cohorts/2022/05-deployment/homework\"\n",
    "!wget $PREFIX\"/model1.bin\"\n",
    "!wget $PREFIX\"/dv.bin\""
   ]
  },
  {
   "cell_type": "code",
   "execution_count": 4,
   "id": "91a47db4",
   "metadata": {},
   "outputs": [
    {
     "name": "stdout",
     "output_type": "stream",
     "text": [
      "sha256:08ef968f6b72033c16c479c966bf37ccd49b06ea91b765e1cc27afefe723920b\n"
     ]
    }
   ],
   "source": [
    "# First hash of Scikit-learn is:\n",
    "\n",
    "print(\"sha256:08ef968f6b72033c16c479c966bf37ccd49b06ea91b765e1cc27afefe723920b\")"
   ]
  },
  {
   "cell_type": "markdown",
   "id": "4b07fc9e",
   "metadata": {},
   "source": [
    "Question 3\n",
    "\n",
    "Let's use these models!\n",
    "\n",
    "    Write a script for loading these models with pickle\n",
    "    Score this client:\n",
    "\n",
    "{\"reports\": 0, \"share\": 0.001694, \"expenditure\": 0.12, \"owner\": \"yes\"}\n",
    "\n",
    "What's the probability that this client will get a credit card?\n",
    "\n",
    "- **0.148**\n",
    "- 0.391\n",
    "- 0.601\n",
    "- 0.993\n",
    "\n",
    "If you're getting errors when unpickling the files, check their checksum:\n",
    "\n",
    "$ md5sum model1.bin dv.bin\n",
    "3f57f3ebfdf57a9e1368dcd0f28a4a14  model1.bin\n",
    "6b7cded86a52af7e81859647fa3a5c2e  dv.bin"
   ]
  },
  {
   "cell_type": "code",
   "execution_count": 5,
   "id": "b25c5e36",
   "metadata": {},
   "outputs": [],
   "source": [
    "import pickle"
   ]
  },
  {
   "cell_type": "code",
   "execution_count": 6,
   "id": "a1451192",
   "metadata": {},
   "outputs": [],
   "source": [
    "with open('model1.bin','rb') as f_in:\n",
    "    model = pickle.load(f_in)\n",
    "\n",
    "\n",
    "with open('dv.bin','rb') as f_in:\n",
    "    dv = pickle.load(f_in)\n"
   ]
  },
  {
   "cell_type": "code",
   "execution_count": 7,
   "id": "2f77f25d",
   "metadata": {},
   "outputs": [],
   "source": [
    "input_data = {\"reports\": 0, \"share\": 0.001694, \"expenditure\": 0.12, \"owner\": \"yes\"}"
   ]
  },
  {
   "cell_type": "code",
   "execution_count": 8,
   "id": "f43506c7",
   "metadata": {},
   "outputs": [],
   "source": [
    " X = dv.transform([input_data])"
   ]
  },
  {
   "cell_type": "code",
   "execution_count": 9,
   "id": "a5b7ba3e",
   "metadata": {},
   "outputs": [
    {
     "data": {
      "text/plain": [
       "0.16213414434326598"
      ]
     },
     "execution_count": 9,
     "metadata": {},
     "output_type": "execute_result"
    }
   ],
   "source": [
    "ypred_prob = model.predict_proba(X)[0,1]\n",
    "ypred_prob"
   ]
  },
  {
   "cell_type": "code",
   "execution_count": null,
   "id": "f03ef874",
   "metadata": {},
   "outputs": [],
   "source": []
  },
  {
   "cell_type": "code",
   "execution_count": null,
   "id": "928b1f97",
   "metadata": {},
   "outputs": [],
   "source": []
  },
  {
   "cell_type": "markdown",
   "id": "36c7b0a9",
   "metadata": {},
   "source": [
    "Question 4\n",
    "\n",
    "Now let's serve this model as a web service\n",
    "\n",
    "    Install Flask and gunicorn (or waitress, if you're on Windows)\n",
    "    Write Flask code for serving the model\n",
    "    Now score this client using requests:\n",
    "\n",
    "url = \"YOUR_URL\"\n",
    "client = {\"reports\": 0, \"share\": 0.245, \"expenditure\": 3.438, \"owner\": \"yes\"}\n",
    "requests.post(url, json=client).json()\n",
    "\n",
    "What's the probability that this client will get a credit card?\n",
    "\n",
    "- 0.274\n",
    "- 0.484\n",
    "- 0.698\n",
    "- **0.928**"
   ]
  },
  {
   "cell_type": "code",
   "execution_count": 10,
   "id": "a289be4f",
   "metadata": {},
   "outputs": [],
   "source": [
    "# Start the flask_app.py (shares the same folder as this file) in the command prompt/terminal,\n",
    "\n",
    "# type the command: python flask_app.py   \n",
    "\n",
    "\n",
    "\n",
    "\n",
    "# To run production-ready server, go to the same folder and \n",
    "\n",
    "# type the command: waitress-serve --listen 0.0.0.0:9696 flask_app:app\n",
    "\n",
    "# and run the following code to get the model prediction"
   ]
  },
  {
   "cell_type": "code",
   "execution_count": 11,
   "id": "1317ba33",
   "metadata": {},
   "outputs": [],
   "source": [
    "import requests"
   ]
  },
  {
   "cell_type": "code",
   "execution_count": 12,
   "id": "5db9b44e",
   "metadata": {},
   "outputs": [],
   "source": [
    "url = \"http://127.0.0.1:9696/predict\"\n",
    "client = {\"reports\": 0, \"share\": 0.245, \"expenditure\": 3.438, \"owner\": \"yes\"} "
   ]
  },
  {
   "cell_type": "code",
   "execution_count": 13,
   "id": "d5264b7d",
   "metadata": {},
   "outputs": [],
   "source": [
    "response = requests.post(url, json=client).json()"
   ]
  },
  {
   "cell_type": "code",
   "execution_count": 14,
   "id": "a6da07b1",
   "metadata": {},
   "outputs": [
    {
     "data": {
      "text/plain": [
       "{'card prediction': True, 'card probability': 0.9282218018527452}"
      ]
     },
     "execution_count": 14,
     "metadata": {},
     "output_type": "execute_result"
    }
   ],
   "source": [
    "response"
   ]
  },
  {
   "cell_type": "code",
   "execution_count": null,
   "id": "a18ad2f4",
   "metadata": {},
   "outputs": [],
   "source": []
  },
  {
   "cell_type": "markdown",
   "id": "e6c70c3a",
   "metadata": {},
   "source": [
    "Docker\n",
    "\n",
    "Install Docker. We will use it for the next two questions.\n",
    "\n",
    "For these questions, we prepared a base image: svizor/zoomcamp-model:3.9.12-slim. You'll need to use it (see Question 5 for an example).\n",
    "\n",
    "This image is based on python:3.9.12-slim and has a logistic regression model (a different one) as well a dictionary vectorizer inside.\n",
    "\n",
    "This is how the Dockerfile for this image looks like:\n",
    "\n",
    "FROM python:3.9.12-slim\n",
    "WORKDIR /app\n",
    "COPY [\"model2.bin\", \"dv.bin\", \"./\"]\n",
    "\n",
    "We already built it and then pushed it to svizor/zoomcamp-model:3.9.12-slim.\n",
    "\n",
    "    Note: You don't need to build this docker image, it's just for your reference."
   ]
  },
  {
   "cell_type": "markdown",
   "id": "b763bf8a",
   "metadata": {},
   "source": [
    "Question 5\n",
    "\n",
    "Download the base image svizor/zoomcamp-model:3.9.12-slim. You can easily make it by using docker pull command.\n",
    "\n",
    "So what's the size of this base image?\n",
    "\n",
    "- 15 Mb\n",
    "- **125 Mb**\n",
    "- 275 Mb\n",
    "- 415 Mb\n",
    "\n",
    "You can get this information when running docker images - it'll be in the \"SIZE\" column.\n",
    "Dockerfile"
   ]
  },
  {
   "cell_type": "code",
   "execution_count": 15,
   "id": "0df4eeef",
   "metadata": {},
   "outputs": [],
   "source": [
    "# Type docker images in the command prompt after installing docker and \n",
    "\n",
    "# running the command: docker pull svizor/zoomcamp-model:3.9.12-slim\n",
    "\n",
    "# Run the following command to list the images: docker images\n",
    "\n",
    "# Look for the image and size column to identify the size"
   ]
  },
  {
   "cell_type": "markdown",
   "id": "f8dfd76b",
   "metadata": {},
   "source": [
    "**The svizor/zoomcamp-model:3.9.12-slim base image is 125MB**"
   ]
  },
  {
   "cell_type": "code",
   "execution_count": null,
   "id": "c3ec1e75",
   "metadata": {},
   "outputs": [],
   "source": []
  },
  {
   "cell_type": "markdown",
   "id": "a0f85010",
   "metadata": {},
   "source": [
    "Now create your own Dockerfile based on the image we prepared.\n",
    "\n",
    "It should start like that:\n",
    "\n",
    "FROM svizor/zoomcamp-model:3.9.12-slim\n",
    "# add your stuff here\n",
    "\n",
    "Now complete it:\n",
    "\n",
    "    Install all the dependencies form the Pipenv file\n",
    "    Copy your Flask script\n",
    "    Run it with Gunicorn\n",
    "\n",
    "After that, you can build your docker image."
   ]
  },
  {
   "cell_type": "markdown",
   "id": "20cdf8ce",
   "metadata": {},
   "source": [
    "Question 6\n",
    "\n",
    "Let's run your docker container!\n",
    "\n",
    "Aftera running it, score this client once again:\n",
    "\n",
    "url = \"YOUR_URL\"\n",
    "client = {\"reports\": 0, \"share\": 0.245, \"expenditure\": 3.438, \"owner\": \"yes\"}\n",
    "requests.post(url, json=client).json()\n",
    "\n",
    "What's the probability that this client will get a credit card now?\n",
    "\n",
    "- 0.289\n",
    "- 0.502\n",
    "- 0.769\n",
    "- **0.972**"
   ]
  },
  {
   "cell_type": "code",
   "execution_count": null,
   "id": "be6489c8",
   "metadata": {},
   "outputs": [],
   "source": [
    " "
   ]
  },
  {
   "cell_type": "code",
   "execution_count": 16,
   "id": "dd53eaea",
   "metadata": {},
   "outputs": [],
   "source": [
    "import json\n",
    "import requests"
   ]
  },
  {
   "cell_type": "code",
   "execution_count": 17,
   "id": "e0cfeaee",
   "metadata": {},
   "outputs": [],
   "source": [
    "url = \"http://localhost:9696/predict\"\n",
    "client = {\"reports\": 0, \"share\": 0.245, \"expenditure\": 3.438, \"owner\": \"yes\"}"
   ]
  },
  {
   "cell_type": "code",
   "execution_count": 18,
   "id": "ce485e31",
   "metadata": {},
   "outputs": [
    {
     "data": {
      "text/plain": [
       "{'card prediction': True, 'card probability': 0.9282218018527452}"
      ]
     },
     "execution_count": 18,
     "metadata": {},
     "output_type": "execute_result"
    }
   ],
   "source": [
    "response = requests.post(url, json=client).json()\n",
    "response"
   ]
  },
  {
   "cell_type": "code",
   "execution_count": 19,
   "id": "72ff24fd",
   "metadata": {
    "scrolled": true
   },
   "outputs": [
    {
     "name": "stdout",
     "output_type": "stream",
     "text": [
      "{\n",
      "  \"card prediction\": true,\n",
      "  \"card probability\": 0.9282218018527452\n",
      "}\n"
     ]
    }
   ],
   "source": [
    "print(json.dumps(response, indent=2))"
   ]
  },
  {
   "cell_type": "code",
   "execution_count": null,
   "id": "18809029",
   "metadata": {},
   "outputs": [],
   "source": []
  }
 ],
 "metadata": {
  "kernelspec": {
   "display_name": "Python 3 (ipykernel)",
   "language": "python",
   "name": "python3"
  },
  "language_info": {
   "codemirror_mode": {
    "name": "ipython",
    "version": 3
   },
   "file_extension": ".py",
   "mimetype": "text/x-python",
   "name": "python",
   "nbconvert_exporter": "python",
   "pygments_lexer": "ipython3",
   "version": "3.10.7"
  },
  "vscode": {
   "interpreter": {
    "hash": "974847b15ba1ec78e4346a9aeca80cb4bdf4305511081b9a834f4baa960e09ae"
   }
  }
 },
 "nbformat": 4,
 "nbformat_minor": 5
}
